{
  "nbformat": 4,
  "nbformat_minor": 0,
  "metadata": {
    "colab": {
      "provenance": [],
      "gpuType": "T4",
      "authorship_tag": "ABX9TyPT8hbFiIurkHlrUl7zQJc4",
      "include_colab_link": true
    },
    "kernelspec": {
      "name": "python3",
      "display_name": "Python 3"
    },
    "language_info": {
      "name": "python"
    },
    "accelerator": "GPU"
  },
  "cells": [
    {
      "cell_type": "markdown",
      "metadata": {
        "id": "view-in-github",
        "colab_type": "text"
      },
      "source": [
        "<a href=\"https://colab.research.google.com/github/jhkr1/BoostCorse-AITech-Pre-Course/blob/main/Transfer_Learning.ipynb\" target=\"_parent\"><img src=\"https://colab.research.google.com/assets/colab-badge.svg\" alt=\"Open In Colab\"/></a>"
      ]
    },
    {
      "cell_type": "markdown",
      "source": [
        "## 1. PyTorch 모델 저장하기 & 불러오기"
      ],
      "metadata": {
        "id": "NelUfLuHVvsu"
      }
    },
    {
      "cell_type": "code",
      "execution_count": 1,
      "metadata": {
        "colab": {
          "base_uri": "https://localhost:8080/"
        },
        "id": "shPeGYpjU6PO",
        "outputId": "586a57c9-bd77-4ed6-e730-70adbec70f6d"
      },
      "outputs": [
        {
          "output_type": "stream",
          "name": "stdout",
          "text": [
            "Requirement already satisfied: torchsummary in /usr/local/lib/python3.11/dist-packages (1.5.1)\n"
          ]
        }
      ],
      "source": [
        "!pip install torchsummary"
      ]
    },
    {
      "cell_type": "code",
      "source": [
        "import os\n",
        "import shutil\n",
        "import zipfile\n",
        "import warnings\n",
        "import torch\n",
        "import torch.nn as nn\n",
        "import torch.optim as optim\n",
        "import torchvision.transforms as transforms\n",
        "from torchsummary import summary\n",
        "from os import walk\n",
        "from PIL import Image\n",
        "from torchvision import datasets\n",
        "from torchvision import models\n",
        "\n",
        "warnings.filterwarnings('ignore')"
      ],
      "metadata": {
        "id": "RwbfHUCxVP78"
      },
      "execution_count": 2,
      "outputs": []
    },
    {
      "cell_type": "code",
      "source": [
        "# 신경망 모델 클래스 정의\n",
        "# TheModelClass라는 설계도 만들기\n",
        "# nn.Module를 기본 설계도를 상속 받아서 -> nn.Module에는 학습에 필요한 모든 기능이 구현 되어있음.\n",
        "class TheModelClass(nn.Module):\n",
        "  def __init__(self):\n",
        "    super(TheModelClass, self).__init__()\n",
        "\n",
        "    # 첫 번째 층: 합성곱, 배치 정규화, ReLU 활성화 함수, 최대 풀링을 포함\n",
        "    # Sequential -> 컨테이너 역할\n",
        "    self.layer1 = nn.Sequential(\n",
        "        # 이미지의 특징을 추출\n",
        "        nn.Conv2d(3, 16, kernel_size=3, stride=2, padding=0),\n",
        "        # 배치 정규화 -> 평균 0, 분산1 -> 학습이 더 안정적이고, 빠르게 하기 위해\n",
        "        nn.BatchNorm2d(16),\n",
        "        # 활성화함수 0보다 작은 값 -> 0, 0보다 큰 값은 그대로\n",
        "        nn.ReLU(),\n",
        "        # 이미지의 크기를 줄여 계산량 감소, 가장 중요한 특징만 남기기.\n",
        "        nn.MaxPool2d(kernel_size=2, stride=2)\n",
        "    )\n",
        "\n",
        "    # 두 번째 층\n",
        "    self.layer2 = nn.Sequential(\n",
        "        nn.Conv2d(16, 32, kernel_size=3, stride=2, padding=0),\n",
        "        nn.BatchNorm2d(32),\n",
        "        nn.ReLU(),\n",
        "        nn.MaxPool2d(kernel_size=2, stride=2)\n",
        "    )\n",
        "\n",
        "    # 세 번째 층\n",
        "    self.layer3 = nn.Sequential(\n",
        "        nn.Conv2d(32, 64, kernel_size=3, stride=2, padding=0),\n",
        "        nn.BatchNorm2d(64),\n",
        "        nn.ReLU(),\n",
        "        nn.MaxPool2d(kernel_size=2, stride=2)\n",
        "    )\n",
        "\n",
        "    # 드롭아웃 층\n",
        "    # 과적합을 막기 위한 장치\n",
        "    # 학습 과정에서 일부로 몇몇 연결을 끊어, 특정 연결에 의존 해결\n",
        "    self.drop_out = nn.Dropout()\n",
        "\n",
        "    # 완전 연결 층\n",
        "    # 특징들을 종합하여 분류를 준비\n",
        "    # 3 * 3 * 64는 layer3을 통과한 feature map을 1차원으로 펼친 크기\n",
        "    self.fc1 = nn.Linear(3 * 3 * 64, 1000)\n",
        "    # 최종 출력 만들기.\n",
        "    self.fc2 = nn.Linear(1000, 1)\n",
        "\n",
        "  # 순전파 함수 정의\n",
        "  def forward(self, x):\n",
        "    out = self.layer1(x)\n",
        "    out = self.layer2(out)\n",
        "    out = self.layer3(out)\n",
        "\n",
        "    # 텐서를 1차원으로 변환\n",
        "    # out.size(0)은 배치 크기 유지, -1은 나머지를 모두 1차원으로 만들라는 의미\n",
        "    out = out.view(out.size(0), -1)\n",
        "    out = self.drop_out(out)\n",
        "    out = self.fc1(out)\n",
        "    out = self.fc2(out)\n",
        "\n",
        "    return out"
      ],
      "metadata": {
        "id": "29E-F33-V1P9"
      },
      "execution_count": 3,
      "outputs": []
    },
    {
      "cell_type": "code",
      "source": [
        "# 모델 초기화 및 GPU로 이동\n",
        "model = TheModelClass().cuda()\n",
        "\n",
        "# 옵티마이저 초기화:SGD 사용\n",
        "optimizer = optim.SGD(model.parameters(), lr=0.1, momentum=0.9)"
      ],
      "metadata": {
        "id": "KTDuZqiDZDjp"
      },
      "execution_count": 4,
      "outputs": []
    },
    {
      "cell_type": "code",
      "source": [
        "print(\"Model's state_dict:\")\n",
        "for param_tensor in model.state_dict():\n",
        "  print(param_tensor, \"\\t\", model.state_dict()[param_tensor].size())"
      ],
      "metadata": {
        "colab": {
          "base_uri": "https://localhost:8080/"
        },
        "id": "51pF1AdkZb5O",
        "outputId": "b5feb4e5-e92f-4952-d09e-b4ebf23f6f54"
      },
      "execution_count": 6,
      "outputs": [
        {
          "output_type": "stream",
          "name": "stdout",
          "text": [
            "Model's state_dict:\n",
            "layer1.0.weight \t torch.Size([16, 3, 3, 3])\n",
            "layer1.0.bias \t torch.Size([16])\n",
            "layer1.1.weight \t torch.Size([16])\n",
            "layer1.1.bias \t torch.Size([16])\n",
            "layer1.1.running_mean \t torch.Size([16])\n",
            "layer1.1.running_var \t torch.Size([16])\n",
            "layer1.1.num_batches_tracked \t torch.Size([])\n",
            "layer2.0.weight \t torch.Size([32, 16, 3, 3])\n",
            "layer2.0.bias \t torch.Size([32])\n",
            "layer2.1.weight \t torch.Size([32])\n",
            "layer2.1.bias \t torch.Size([32])\n",
            "layer2.1.running_mean \t torch.Size([32])\n",
            "layer2.1.running_var \t torch.Size([32])\n",
            "layer2.1.num_batches_tracked \t torch.Size([])\n",
            "layer3.0.weight \t torch.Size([64, 32, 3, 3])\n",
            "layer3.0.bias \t torch.Size([64])\n",
            "layer3.1.weight \t torch.Size([64])\n",
            "layer3.1.bias \t torch.Size([64])\n",
            "layer3.1.running_mean \t torch.Size([64])\n",
            "layer3.1.running_var \t torch.Size([64])\n",
            "layer3.1.num_batches_tracked \t torch.Size([])\n",
            "fc1.weight \t torch.Size([1000, 576])\n",
            "fc1.bias \t torch.Size([1000])\n",
            "fc2.weight \t torch.Size([1, 1000])\n",
            "fc2.bias \t torch.Size([1])\n"
          ]
        }
      ]
    },
    {
      "cell_type": "code",
      "source": [
        "# 모델의 상태 사전의 타입 출력\n",
        "type(model.state_dict())"
      ],
      "metadata": {
        "colab": {
          "base_uri": "https://localhost:8080/"
        },
        "id": "aqFzcnE7Zmja",
        "outputId": "1999b35b-9e6f-4796-901b-34fb3a9a0a8a"
      },
      "execution_count": 7,
      "outputs": [
        {
          "output_type": "execute_result",
          "data": {
            "text/plain": [
              "collections.OrderedDict"
            ]
          },
          "metadata": {},
          "execution_count": 7
        }
      ]
    },
    {
      "cell_type": "code",
      "source": [
        "# 모델의 구조 및 파라미터 요약 출력\n",
        "summary(model, (3, 224, 224))"
      ],
      "metadata": {
        "colab": {
          "base_uri": "https://localhost:8080/"
        },
        "id": "SDi5wvOFZ3WA",
        "outputId": "7603c0ce-23bb-459c-c2b4-d3867926960d"
      },
      "execution_count": 8,
      "outputs": [
        {
          "output_type": "stream",
          "name": "stdout",
          "text": [
            "----------------------------------------------------------------\n",
            "        Layer (type)               Output Shape         Param #\n",
            "================================================================\n",
            "            Conv2d-1         [-1, 16, 111, 111]             448\n",
            "       BatchNorm2d-2         [-1, 16, 111, 111]              32\n",
            "              ReLU-3         [-1, 16, 111, 111]               0\n",
            "         MaxPool2d-4           [-1, 16, 55, 55]               0\n",
            "            Conv2d-5           [-1, 32, 27, 27]           4,640\n",
            "       BatchNorm2d-6           [-1, 32, 27, 27]              64\n",
            "              ReLU-7           [-1, 32, 27, 27]               0\n",
            "         MaxPool2d-8           [-1, 32, 13, 13]               0\n",
            "            Conv2d-9             [-1, 64, 6, 6]          18,496\n",
            "      BatchNorm2d-10             [-1, 64, 6, 6]             128\n",
            "             ReLU-11             [-1, 64, 6, 6]               0\n",
            "        MaxPool2d-12             [-1, 64, 3, 3]               0\n",
            "          Dropout-13                  [-1, 576]               0\n",
            "           Linear-14                 [-1, 1000]         577,000\n",
            "           Linear-15                    [-1, 1]           1,001\n",
            "================================================================\n",
            "Total params: 601,809\n",
            "Trainable params: 601,809\n",
            "Non-trainable params: 0\n",
            "----------------------------------------------------------------\n",
            "Input size (MB): 0.57\n",
            "Forward/backward pass size (MB): 5.53\n",
            "Params size (MB): 2.30\n",
            "Estimated Total Size (MB): 8.40\n",
            "----------------------------------------------------------------\n"
          ]
        }
      ]
    },
    {
      "cell_type": "code",
      "source": [
        "# 모델을 저장할 경로를 지정\n",
        "MODEL_PATH = 'saved'\n",
        "\n",
        "# 지정된 경로가 존재하지 않으면 해당 경로를 생성\n",
        "if not os.path.exists(MODEL_PATH):\n",
        "  os.makedirs(MODEL_PATH)\n",
        "\n",
        "# 모델의 상태 사전(state_dict)를 저장한다.\n",
        "torch.save(model.state_dict(), os.path.join(MODEL_PATH, 'model.pt'))"
      ],
      "metadata": {
        "id": "LNeF4N68Z8Y3"
      },
      "execution_count": 9,
      "outputs": []
    },
    {
      "cell_type": "code",
      "source": [
        "# GPU를 사용 가능하다면 cuda를, 아니라면 cpu 사용\n",
        "device = torch.device('cuda' if torch.cuda.is_available() else 'cpu')\n",
        "\n",
        "# 새로운 모델 객체 생성\n",
        "new_model = TheModelClass()\n",
        "\n",
        "# 저장된 상태 사전을 불러와 새로운 모델에 적용\n",
        "new_model.load_state_dict(torch.load(os.path.join(MODEL_PATH, 'model.pt')))"
      ],
      "metadata": {
        "colab": {
          "base_uri": "https://localhost:8080/"
        },
        "id": "OhdLsauKaM-H",
        "outputId": "4e8e6a0c-207a-4ff1-c761-335f1d9c1eb0"
      },
      "execution_count": 13,
      "outputs": [
        {
          "output_type": "execute_result",
          "data": {
            "text/plain": [
              "<All keys matched successfully>"
            ]
          },
          "metadata": {},
          "execution_count": 13
        }
      ]
    },
    {
      "cell_type": "code",
      "source": [
        "# 전체 모델을 파일로 저장합니다.\n",
        "torch.save(model, os.path.join(MODEL_PATH, \"model_pickle.pt\"))\n",
        "\n",
        "# 저장된 전체 모델을 불러옵니다.\n",
        "model = torch.load(os.path.join(MODEL_PATH, \"model_pickle.pt\"), weights_only=False)\n",
        "\n",
        "# 모델을 평가 모드로 설정합니다. (드롭아웃 및 배치 정규화를 비활성화)\n",
        "model.eval()"
      ],
      "metadata": {
        "colab": {
          "base_uri": "https://localhost:8080/"
        },
        "id": "o7iJE274am-L",
        "outputId": "03b253b1-ba79-4cfd-8656-cf4526e9b26c"
      },
      "execution_count": 15,
      "outputs": [
        {
          "output_type": "execute_result",
          "data": {
            "text/plain": [
              "TheModelClass(\n",
              "  (layer1): Sequential(\n",
              "    (0): Conv2d(3, 16, kernel_size=(3, 3), stride=(2, 2))\n",
              "    (1): BatchNorm2d(16, eps=1e-05, momentum=0.1, affine=True, track_running_stats=True)\n",
              "    (2): ReLU()\n",
              "    (3): MaxPool2d(kernel_size=2, stride=2, padding=0, dilation=1, ceil_mode=False)\n",
              "  )\n",
              "  (layer2): Sequential(\n",
              "    (0): Conv2d(16, 32, kernel_size=(3, 3), stride=(2, 2))\n",
              "    (1): BatchNorm2d(32, eps=1e-05, momentum=0.1, affine=True, track_running_stats=True)\n",
              "    (2): ReLU()\n",
              "    (3): MaxPool2d(kernel_size=2, stride=2, padding=0, dilation=1, ceil_mode=False)\n",
              "  )\n",
              "  (layer3): Sequential(\n",
              "    (0): Conv2d(32, 64, kernel_size=(3, 3), stride=(2, 2))\n",
              "    (1): BatchNorm2d(64, eps=1e-05, momentum=0.1, affine=True, track_running_stats=True)\n",
              "    (2): ReLU()\n",
              "    (3): MaxPool2d(kernel_size=2, stride=2, padding=0, dilation=1, ceil_mode=False)\n",
              "  )\n",
              "  (drop_out): Dropout(p=0.5, inplace=False)\n",
              "  (fc1): Linear(in_features=576, out_features=1000, bias=True)\n",
              "  (fc2): Linear(in_features=1000, out_features=1, bias=True)\n",
              ")"
            ]
          },
          "metadata": {},
          "execution_count": 15
        }
      ]
    },
    {
      "cell_type": "code",
      "source": [
        "# 개와 고양이 데이터셋 가져오기\n",
        "!wget https://download.microsoft.com/download/3/E/1/3E1C3F21-ECDB-4869-8368-6DEBA77B919F/kagglecatsanddogs_5340.zip"
      ],
      "metadata": {
        "colab": {
          "base_uri": "https://localhost:8080/"
        },
        "id": "uHmfUnhSbz_M",
        "outputId": "af687baa-3f23-42d5-bb14-df58dd0fa793"
      },
      "execution_count": 16,
      "outputs": [
        {
          "output_type": "stream",
          "name": "stdout",
          "text": [
            "--2025-07-20 06:04:51--  https://download.microsoft.com/download/3/E/1/3E1C3F21-ECDB-4869-8368-6DEBA77B919F/kagglecatsanddogs_5340.zip\n",
            "Resolving download.microsoft.com (download.microsoft.com)... 23.218.186.12, 2600:1409:3c00:c80::317f, 2600:1409:3c00:c8c::317f\n",
            "Connecting to download.microsoft.com (download.microsoft.com)|23.218.186.12|:443... connected.\n",
            "HTTP request sent, awaiting response... 200 OK\n",
            "Length: 824887076 (787M) [application/octet-stream]\n",
            "Saving to: ‘kagglecatsanddogs_5340.zip’\n",
            "\n",
            "kagglecatsanddogs_5 100%[===================>] 786.67M   130MB/s    in 11s     \n",
            "\n",
            "2025-07-20 06:05:02 (72.3 MB/s) - ‘kagglecatsanddogs_5340.zip’ saved [824887076/824887076]\n",
            "\n"
          ]
        }
      ]
    },
    {
      "cell_type": "code",
      "source": [
        "# 압축 파일명을 지정한다.\n",
        "filename = \"kagglecatsanddogs_5340.zip\"\n",
        "\n",
        "# 압축 파일을 해제한다.\n",
        "with zipfile.ZipFile(filename, 'r') as zip_ref:\n",
        "  zip_ref.extractall()\n",
        "\n",
        "# 'PetImages' 폴더를 'data'폴더로 이동한다.\n",
        "shutil.move('PetImages', 'data')\n",
        "\n",
        "# 'data' 폴더 내의 모든 파일 경로를 가져온다.\n",
        "mypath = \"data\"\n",
        "f_path = []\n",
        "\n",
        "for (dirpath, dirnames, filenames) in walk(mypath):\n",
        "  f_path.extend([os.path.join(dirpath, filename) for filename in filenames])\n",
        "\n",
        "# 손상된 이미지 파일이 있는지 확인하고, 손상된 파일을 삭제\n",
        "for f_name in f_path:\n",
        "  try:\n",
        "    Image.open(f_name)\n",
        "  except Exception as e:\n",
        "    print(e)\n",
        "    os.remove(f_name)"
      ],
      "metadata": {
        "colab": {
          "base_uri": "https://localhost:8080/"
        },
        "id": "StSApLD7b5AL",
        "outputId": "afcb9261-eddf-4020-80d8-0ba6166b5cb1"
      },
      "execution_count": 17,
      "outputs": [
        {
          "output_type": "stream",
          "name": "stdout",
          "text": [
            "cannot identify image file 'data/Cat/Thumbs.db'\n",
            "cannot identify image file 'data/Cat/666.jpg'\n",
            "cannot identify image file 'data/Dog/Thumbs.db'\n",
            "cannot identify image file 'data/Dog/11702.jpg'\n"
          ]
        }
      ]
    },
    {
      "cell_type": "code",
      "source": [
        "# 데이터셋을 로드하고 전처리를 적용한다.\n",
        "# datasets.ImageFolde에서 root = 'data'로 지정하면 아래와 같은 구조라고 가정\n",
        "# data/\n",
        "# ├── class_A/\n",
        "# │   ├── xxx.png\n",
        "# │   ├── xxy.png\n",
        "# │   └── ...\n",
        "# │\n",
        "# └── class_B/\n",
        "#     ├── zzz.png\n",
        "#     ├── zzy.png\n",
        "#     └── ...\n",
        "\n",
        "dataset = datasets.ImageFolder(root=\"data\",\n",
        "                               # Compose는 이미지 천저리(transform)를 하나의 작업으로 묶어주는 역할\n",
        "                               transform=transforms.Compose([\n",
        "                                   transforms.Resize(224),\n",
        "                                   transforms.CenterCrop(224),\n",
        "                                   transforms.ToTensor(),\n",
        "                                   transforms.Normalize((0.5, 0.5, 0.5),\n",
        "                                                        (0.5, 0.5, 0.5))\n",
        "                               ]))\n",
        "\n",
        "# DataLoader는 Dataset을 감싸서, 학습에 최적화된 방식으로 데이터를 공급해주는 관리자\n",
        "dataloader = torch.utils.data.DataLoader(dataset,\n",
        "                                         batch_size=8,\n",
        "                                         shuffle=True,\n",
        "                                         # 8개의 CPU 프로세스를 사용해 병렬 처리 -> 병목 현상 감소\n",
        "                                         num_workers=8)"
      ],
      "metadata": {
        "id": "prsrY8tZdB7z"
      },
      "execution_count": 20,
      "outputs": []
    },
    {
      "cell_type": "code",
      "source": [
        "# 이진 분류 정확도를 계산하는 함수\n",
        "# y_pred: 모델이 출력한 원시 값(logits)\n",
        "# y_test: 실제 정답 라벨\n",
        "def binary_acc(y_pred, y_test):\n",
        "\n",
        "   # 1. 시그모이드(sigmoid) 함수를 적용하여 모델의 출력을 0과 1 사이의 확률 값으로 변환하고,\n",
        "   #    round 함수를 이용해 0.5를 기준으로 예측을 0 또는 1로 결정합니다.\n",
        "  y_pred_tag = torch.round(torch.sigmoid(y_pred))\n",
        "\n",
        "  # 2. 예측 결과(y_pred_tag)와 실제 정답(y_test)이 일치하는 개수를 셉니다.\n",
        "  #    (y_pred_tag == y_test)는 [True, False, True, ...] 형태의 불리언 텐서를 반환하고,\n",
        "  #    .sum()은 True의 개수를 합산합니다. .float()은 나눗셈을 위해 실수로 변환합니다.\n",
        "  correct_results_sum = (y_pred_tag == y_test).sum().float()\n",
        "\n",
        "  # 3. (정답 개수 / 전체 데이터 개수)로 정확도를 계산합니다.\n",
        "  acc = correct_results_sum / y_test.shape[0]\n",
        "\n",
        "  # 4. 정확도를 백분율로 변환하고 소수점을 반올림하여 정수로 만듭니다.\n",
        "  acc = torch.round(acc * 100)\n",
        "\n",
        "  return acc"
      ],
      "metadata": {
        "id": "ujUeN7rlerdn"
      },
      "execution_count": 22,
      "outputs": []
    },
    {
      "cell_type": "code",
      "source": [
        "# 학습 설정값을 지정\n",
        "EPOCHS = 100\n",
        "BATCH_SIZE = 64\n",
        "LEARNING_RATE = 0.1"
      ],
      "metadata": {
        "id": "iJlqQEMNflLD"
      },
      "execution_count": 23,
      "outputs": []
    },
    {
      "cell_type": "code",
      "source": [
        "# 모델을 GPU로 이동한다.\n",
        "model.to(device)\n",
        "\n",
        "# 손실 함수와 옵티마이저를 설정\n",
        "criterion = nn.BCEWithLogitsLoss()\n",
        "optimizer = optim.Adam(model.parameters(), lr = LEARNING_RATE)"
      ],
      "metadata": {
        "id": "4DK1tDnwfuHr"
      },
      "execution_count": 24,
      "outputs": []
    },
    {
      "cell_type": "code",
      "source": [
        "# 학습을 시작합니다.\n",
        "for e in range(1, EPOCHS+1):\n",
        "    epoch_loss = 0\n",
        "    epoch_acc = 0\n",
        "    for X_batch, y_batch in dataloader:\n",
        "        X_batch, y_batch = X_batch.to(device), y_batch.to(device).type(torch.cuda.FloatTensor)\n",
        "\n",
        "        optimizer.zero_grad()\n",
        "        y_pred = model(X_batch)\n",
        "\n",
        "        loss = criterion(y_pred, y_batch.unsqueeze(1))\n",
        "        acc = binary_acc(y_pred, y_batch.unsqueeze(1))\n",
        "\n",
        "        loss.backward()\n",
        "        optimizer.step()\n",
        "\n",
        "        epoch_loss += loss.item()\n",
        "        epoch_acc += acc.item()\n",
        "\n",
        "    # 모델의 상태와 옵티마이저의 상태를 저장합니다.\n",
        "    torch.save({\n",
        "        'epoch': e,\n",
        "        'model_state_dict': model.state_dict(),\n",
        "        'optimizer_state_dict': optimizer.state_dict(),\n",
        "        'loss': epoch_loss,\n",
        "        }, f\"saved/checkpoint_model_{e}_{epoch_loss/len(dataloader)}_{epoch_acc/len(dataloader)}.pt\")\n",
        "\n",
        "    # 에폭별 손실과 정확도를 출력합니다.\n",
        "    print(f'Epoch {e+0:03}: | Loss: {epoch_loss/len(dataloader):.5f} | Acc: {epoch_acc/len(dataloader):.3f}')"
      ],
      "metadata": {
        "colab": {
          "base_uri": "https://localhost:8080/",
          "height": 573
        },
        "id": "7RrdgB-Af7rZ",
        "outputId": "735bd07d-7a26-4dfd-b5cd-d210a7461460"
      },
      "execution_count": 25,
      "outputs": [
        {
          "output_type": "stream",
          "name": "stdout",
          "text": [
            "Epoch 001: | Loss: 11.03036 | Acc: 49.596\n",
            "Epoch 002: | Loss: 1.14812 | Acc: 49.889\n",
            "Epoch 003: | Loss: 0.70050 | Acc: 49.798\n",
            "Epoch 004: | Loss: 0.70304 | Acc: 50.212\n",
            "Epoch 005: | Loss: 0.80617 | Acc: 50.371\n",
            "Epoch 006: | Loss: 0.92092 | Acc: 50.086\n",
            "Epoch 007: | Loss: 0.85282 | Acc: 50.702\n",
            "Epoch 008: | Loss: 0.88216 | Acc: 50.377\n"
          ]
        },
        {
          "output_type": "error",
          "ename": "KeyboardInterrupt",
          "evalue": "",
          "traceback": [
            "\u001b[0;31m---------------------------------------------------------------------------\u001b[0m",
            "\u001b[0;31mKeyboardInterrupt\u001b[0m                         Traceback (most recent call last)",
            "\u001b[0;32m/tmp/ipython-input-25-2445218346.py\u001b[0m in \u001b[0;36m<cell line: 0>\u001b[0;34m()\u001b[0m\n\u001b[1;32m      6\u001b[0m         \u001b[0mX_batch\u001b[0m\u001b[0;34m,\u001b[0m \u001b[0my_batch\u001b[0m \u001b[0;34m=\u001b[0m \u001b[0mX_batch\u001b[0m\u001b[0;34m.\u001b[0m\u001b[0mto\u001b[0m\u001b[0;34m(\u001b[0m\u001b[0mdevice\u001b[0m\u001b[0;34m)\u001b[0m\u001b[0;34m,\u001b[0m \u001b[0my_batch\u001b[0m\u001b[0;34m.\u001b[0m\u001b[0mto\u001b[0m\u001b[0;34m(\u001b[0m\u001b[0mdevice\u001b[0m\u001b[0;34m)\u001b[0m\u001b[0;34m.\u001b[0m\u001b[0mtype\u001b[0m\u001b[0;34m(\u001b[0m\u001b[0mtorch\u001b[0m\u001b[0;34m.\u001b[0m\u001b[0mcuda\u001b[0m\u001b[0;34m.\u001b[0m\u001b[0mFloatTensor\u001b[0m\u001b[0;34m)\u001b[0m\u001b[0;34m\u001b[0m\u001b[0;34m\u001b[0m\u001b[0m\n\u001b[1;32m      7\u001b[0m \u001b[0;34m\u001b[0m\u001b[0m\n\u001b[0;32m----> 8\u001b[0;31m         \u001b[0moptimizer\u001b[0m\u001b[0;34m.\u001b[0m\u001b[0mzero_grad\u001b[0m\u001b[0;34m(\u001b[0m\u001b[0;34m)\u001b[0m\u001b[0;34m\u001b[0m\u001b[0;34m\u001b[0m\u001b[0m\n\u001b[0m\u001b[1;32m      9\u001b[0m         \u001b[0my_pred\u001b[0m \u001b[0;34m=\u001b[0m \u001b[0mmodel\u001b[0m\u001b[0;34m(\u001b[0m\u001b[0mX_batch\u001b[0m\u001b[0;34m)\u001b[0m\u001b[0;34m\u001b[0m\u001b[0;34m\u001b[0m\u001b[0m\n\u001b[1;32m     10\u001b[0m \u001b[0;34m\u001b[0m\u001b[0m\n",
            "\u001b[0;32m/usr/local/lib/python3.11/dist-packages/torch/_compile.py\u001b[0m in \u001b[0;36minner\u001b[0;34m(*args, **kwargs)\u001b[0m\n\u001b[1;32m     20\u001b[0m     \u001b[0;32mif\u001b[0m \u001b[0mfn\u001b[0m \u001b[0;32mis\u001b[0m \u001b[0;32mnot\u001b[0m \u001b[0;32mNone\u001b[0m\u001b[0;34m:\u001b[0m\u001b[0;34m\u001b[0m\u001b[0;34m\u001b[0m\u001b[0m\n\u001b[1;32m     21\u001b[0m \u001b[0;34m\u001b[0m\u001b[0m\n\u001b[0;32m---> 22\u001b[0;31m         \u001b[0;34m@\u001b[0m\u001b[0mfunctools\u001b[0m\u001b[0;34m.\u001b[0m\u001b[0mwraps\u001b[0m\u001b[0;34m(\u001b[0m\u001b[0mfn\u001b[0m\u001b[0;34m)\u001b[0m\u001b[0;34m\u001b[0m\u001b[0;34m\u001b[0m\u001b[0m\n\u001b[0m\u001b[1;32m     23\u001b[0m         \u001b[0;32mdef\u001b[0m \u001b[0minner\u001b[0m\u001b[0;34m(\u001b[0m\u001b[0;34m*\u001b[0m\u001b[0margs\u001b[0m\u001b[0;34m,\u001b[0m \u001b[0;34m**\u001b[0m\u001b[0mkwargs\u001b[0m\u001b[0;34m)\u001b[0m\u001b[0;34m:\u001b[0m\u001b[0;34m\u001b[0m\u001b[0;34m\u001b[0m\u001b[0m\n\u001b[1;32m     24\u001b[0m             \u001b[0;31m# cache this on the first invocation to avoid adding too much overhead.\u001b[0m\u001b[0;34m\u001b[0m\u001b[0;34m\u001b[0m\u001b[0m\n",
            "\u001b[0;31mKeyboardInterrupt\u001b[0m: "
          ]
        }
      ]
    },
    {
      "cell_type": "markdown",
      "source": [
        "## 2. Pretrained Model 불러오기"
      ],
      "metadata": {
        "id": "UpgjTcT5iOpA"
      }
    },
    {
      "cell_type": "code",
      "source": [
        "device = torch.device('cuda' if torch.cuda.is_available() else 'cpu')\n",
        "\n",
        "# 사전 학습된 VGG16 모델 불러오기\n",
        "vgg = models.vgg16(pretrained=True).to(device)\n",
        "\n",
        "# VGG16 모델의 구조 출력\n",
        "print(vgg)"
      ],
      "metadata": {
        "colab": {
          "base_uri": "https://localhost:8080/"
        },
        "id": "PDnx9VdciSf5",
        "outputId": "520c81e3-370a-482c-a8f2-fc375ce0c64c"
      },
      "execution_count": 26,
      "outputs": [
        {
          "output_type": "stream",
          "name": "stderr",
          "text": [
            "Downloading: \"https://download.pytorch.org/models/vgg16-397923af.pth\" to /root/.cache/torch/hub/checkpoints/vgg16-397923af.pth\n",
            "100%|██████████| 528M/528M [00:07<00:00, 77.5MB/s]\n"
          ]
        },
        {
          "output_type": "stream",
          "name": "stdout",
          "text": [
            "VGG(\n",
            "  (features): Sequential(\n",
            "    (0): Conv2d(3, 64, kernel_size=(3, 3), stride=(1, 1), padding=(1, 1))\n",
            "    (1): ReLU(inplace=True)\n",
            "    (2): Conv2d(64, 64, kernel_size=(3, 3), stride=(1, 1), padding=(1, 1))\n",
            "    (3): ReLU(inplace=True)\n",
            "    (4): MaxPool2d(kernel_size=2, stride=2, padding=0, dilation=1, ceil_mode=False)\n",
            "    (5): Conv2d(64, 128, kernel_size=(3, 3), stride=(1, 1), padding=(1, 1))\n",
            "    (6): ReLU(inplace=True)\n",
            "    (7): Conv2d(128, 128, kernel_size=(3, 3), stride=(1, 1), padding=(1, 1))\n",
            "    (8): ReLU(inplace=True)\n",
            "    (9): MaxPool2d(kernel_size=2, stride=2, padding=0, dilation=1, ceil_mode=False)\n",
            "    (10): Conv2d(128, 256, kernel_size=(3, 3), stride=(1, 1), padding=(1, 1))\n",
            "    (11): ReLU(inplace=True)\n",
            "    (12): Conv2d(256, 256, kernel_size=(3, 3), stride=(1, 1), padding=(1, 1))\n",
            "    (13): ReLU(inplace=True)\n",
            "    (14): Conv2d(256, 256, kernel_size=(3, 3), stride=(1, 1), padding=(1, 1))\n",
            "    (15): ReLU(inplace=True)\n",
            "    (16): MaxPool2d(kernel_size=2, stride=2, padding=0, dilation=1, ceil_mode=False)\n",
            "    (17): Conv2d(256, 512, kernel_size=(3, 3), stride=(1, 1), padding=(1, 1))\n",
            "    (18): ReLU(inplace=True)\n",
            "    (19): Conv2d(512, 512, kernel_size=(3, 3), stride=(1, 1), padding=(1, 1))\n",
            "    (20): ReLU(inplace=True)\n",
            "    (21): Conv2d(512, 512, kernel_size=(3, 3), stride=(1, 1), padding=(1, 1))\n",
            "    (22): ReLU(inplace=True)\n",
            "    (23): MaxPool2d(kernel_size=2, stride=2, padding=0, dilation=1, ceil_mode=False)\n",
            "    (24): Conv2d(512, 512, kernel_size=(3, 3), stride=(1, 1), padding=(1, 1))\n",
            "    (25): ReLU(inplace=True)\n",
            "    (26): Conv2d(512, 512, kernel_size=(3, 3), stride=(1, 1), padding=(1, 1))\n",
            "    (27): ReLU(inplace=True)\n",
            "    (28): Conv2d(512, 512, kernel_size=(3, 3), stride=(1, 1), padding=(1, 1))\n",
            "    (29): ReLU(inplace=True)\n",
            "    (30): MaxPool2d(kernel_size=2, stride=2, padding=0, dilation=1, ceil_mode=False)\n",
            "  )\n",
            "  (avgpool): AdaptiveAvgPool2d(output_size=(7, 7))\n",
            "  (classifier): Sequential(\n",
            "    (0): Linear(in_features=25088, out_features=4096, bias=True)\n",
            "    (1): ReLU(inplace=True)\n",
            "    (2): Dropout(p=0.5, inplace=False)\n",
            "    (3): Linear(in_features=4096, out_features=4096, bias=True)\n",
            "    (4): ReLU(inplace=True)\n",
            "    (5): Dropout(p=0.5, inplace=False)\n",
            "    (6): Linear(in_features=4096, out_features=1000, bias=True)\n",
            "  )\n",
            ")\n"
          ]
        }
      ]
    },
    {
      "cell_type": "code",
      "source": [
        "# VGG16 모델의 구조 및 파라미터 요약을 출력한다.\n",
        "summary(vgg, (3, 224, 224))"
      ],
      "metadata": {
        "colab": {
          "base_uri": "https://localhost:8080/"
        },
        "id": "90g1Zgjtitfu",
        "outputId": "bb976a8d-fe80-443c-a4e6-8493c62178bf"
      },
      "execution_count": 27,
      "outputs": [
        {
          "output_type": "stream",
          "name": "stdout",
          "text": [
            "----------------------------------------------------------------\n",
            "        Layer (type)               Output Shape         Param #\n",
            "================================================================\n",
            "            Conv2d-1         [-1, 64, 224, 224]           1,792\n",
            "              ReLU-2         [-1, 64, 224, 224]               0\n",
            "            Conv2d-3         [-1, 64, 224, 224]          36,928\n",
            "              ReLU-4         [-1, 64, 224, 224]               0\n",
            "         MaxPool2d-5         [-1, 64, 112, 112]               0\n",
            "            Conv2d-6        [-1, 128, 112, 112]          73,856\n",
            "              ReLU-7        [-1, 128, 112, 112]               0\n",
            "            Conv2d-8        [-1, 128, 112, 112]         147,584\n",
            "              ReLU-9        [-1, 128, 112, 112]               0\n",
            "        MaxPool2d-10          [-1, 128, 56, 56]               0\n",
            "           Conv2d-11          [-1, 256, 56, 56]         295,168\n",
            "             ReLU-12          [-1, 256, 56, 56]               0\n",
            "           Conv2d-13          [-1, 256, 56, 56]         590,080\n",
            "             ReLU-14          [-1, 256, 56, 56]               0\n",
            "           Conv2d-15          [-1, 256, 56, 56]         590,080\n",
            "             ReLU-16          [-1, 256, 56, 56]               0\n",
            "        MaxPool2d-17          [-1, 256, 28, 28]               0\n",
            "           Conv2d-18          [-1, 512, 28, 28]       1,180,160\n",
            "             ReLU-19          [-1, 512, 28, 28]               0\n",
            "           Conv2d-20          [-1, 512, 28, 28]       2,359,808\n",
            "             ReLU-21          [-1, 512, 28, 28]               0\n",
            "           Conv2d-22          [-1, 512, 28, 28]       2,359,808\n",
            "             ReLU-23          [-1, 512, 28, 28]               0\n",
            "        MaxPool2d-24          [-1, 512, 14, 14]               0\n",
            "           Conv2d-25          [-1, 512, 14, 14]       2,359,808\n",
            "             ReLU-26          [-1, 512, 14, 14]               0\n",
            "           Conv2d-27          [-1, 512, 14, 14]       2,359,808\n",
            "             ReLU-28          [-1, 512, 14, 14]               0\n",
            "           Conv2d-29          [-1, 512, 14, 14]       2,359,808\n",
            "             ReLU-30          [-1, 512, 14, 14]               0\n",
            "        MaxPool2d-31            [-1, 512, 7, 7]               0\n",
            "AdaptiveAvgPool2d-32            [-1, 512, 7, 7]               0\n",
            "           Linear-33                 [-1, 4096]     102,764,544\n",
            "             ReLU-34                 [-1, 4096]               0\n",
            "          Dropout-35                 [-1, 4096]               0\n",
            "           Linear-36                 [-1, 4096]      16,781,312\n",
            "             ReLU-37                 [-1, 4096]               0\n",
            "          Dropout-38                 [-1, 4096]               0\n",
            "           Linear-39                 [-1, 1000]       4,097,000\n",
            "================================================================\n",
            "Total params: 138,357,544\n",
            "Trainable params: 138,357,544\n",
            "Non-trainable params: 0\n",
            "----------------------------------------------------------------\n",
            "Input size (MB): 0.57\n",
            "Forward/backward pass size (MB): 218.78\n",
            "Params size (MB): 527.79\n",
            "Estimated Total Size (MB): 747.15\n",
            "----------------------------------------------------------------\n"
          ]
        }
      ]
    },
    {
      "cell_type": "code",
      "source": [
        "# VGG16 모델의 각 층의 이름과 구조를 출력\n",
        "for name, layer in vgg.named_modules():\n",
        "  print(name, layer)"
      ],
      "metadata": {
        "colab": {
          "base_uri": "https://localhost:8080/"
        },
        "id": "dM-IhbO9i1pl",
        "outputId": "96aee1b1-8741-4740-d0dd-bd2b4efa9545"
      },
      "execution_count": 28,
      "outputs": [
        {
          "output_type": "stream",
          "name": "stdout",
          "text": [
            " VGG(\n",
            "  (features): Sequential(\n",
            "    (0): Conv2d(3, 64, kernel_size=(3, 3), stride=(1, 1), padding=(1, 1))\n",
            "    (1): ReLU(inplace=True)\n",
            "    (2): Conv2d(64, 64, kernel_size=(3, 3), stride=(1, 1), padding=(1, 1))\n",
            "    (3): ReLU(inplace=True)\n",
            "    (4): MaxPool2d(kernel_size=2, stride=2, padding=0, dilation=1, ceil_mode=False)\n",
            "    (5): Conv2d(64, 128, kernel_size=(3, 3), stride=(1, 1), padding=(1, 1))\n",
            "    (6): ReLU(inplace=True)\n",
            "    (7): Conv2d(128, 128, kernel_size=(3, 3), stride=(1, 1), padding=(1, 1))\n",
            "    (8): ReLU(inplace=True)\n",
            "    (9): MaxPool2d(kernel_size=2, stride=2, padding=0, dilation=1, ceil_mode=False)\n",
            "    (10): Conv2d(128, 256, kernel_size=(3, 3), stride=(1, 1), padding=(1, 1))\n",
            "    (11): ReLU(inplace=True)\n",
            "    (12): Conv2d(256, 256, kernel_size=(3, 3), stride=(1, 1), padding=(1, 1))\n",
            "    (13): ReLU(inplace=True)\n",
            "    (14): Conv2d(256, 256, kernel_size=(3, 3), stride=(1, 1), padding=(1, 1))\n",
            "    (15): ReLU(inplace=True)\n",
            "    (16): MaxPool2d(kernel_size=2, stride=2, padding=0, dilation=1, ceil_mode=False)\n",
            "    (17): Conv2d(256, 512, kernel_size=(3, 3), stride=(1, 1), padding=(1, 1))\n",
            "    (18): ReLU(inplace=True)\n",
            "    (19): Conv2d(512, 512, kernel_size=(3, 3), stride=(1, 1), padding=(1, 1))\n",
            "    (20): ReLU(inplace=True)\n",
            "    (21): Conv2d(512, 512, kernel_size=(3, 3), stride=(1, 1), padding=(1, 1))\n",
            "    (22): ReLU(inplace=True)\n",
            "    (23): MaxPool2d(kernel_size=2, stride=2, padding=0, dilation=1, ceil_mode=False)\n",
            "    (24): Conv2d(512, 512, kernel_size=(3, 3), stride=(1, 1), padding=(1, 1))\n",
            "    (25): ReLU(inplace=True)\n",
            "    (26): Conv2d(512, 512, kernel_size=(3, 3), stride=(1, 1), padding=(1, 1))\n",
            "    (27): ReLU(inplace=True)\n",
            "    (28): Conv2d(512, 512, kernel_size=(3, 3), stride=(1, 1), padding=(1, 1))\n",
            "    (29): ReLU(inplace=True)\n",
            "    (30): MaxPool2d(kernel_size=2, stride=2, padding=0, dilation=1, ceil_mode=False)\n",
            "  )\n",
            "  (avgpool): AdaptiveAvgPool2d(output_size=(7, 7))\n",
            "  (classifier): Sequential(\n",
            "    (0): Linear(in_features=25088, out_features=4096, bias=True)\n",
            "    (1): ReLU(inplace=True)\n",
            "    (2): Dropout(p=0.5, inplace=False)\n",
            "    (3): Linear(in_features=4096, out_features=4096, bias=True)\n",
            "    (4): ReLU(inplace=True)\n",
            "    (5): Dropout(p=0.5, inplace=False)\n",
            "    (6): Linear(in_features=4096, out_features=1000, bias=True)\n",
            "  )\n",
            ")\n",
            "features Sequential(\n",
            "  (0): Conv2d(3, 64, kernel_size=(3, 3), stride=(1, 1), padding=(1, 1))\n",
            "  (1): ReLU(inplace=True)\n",
            "  (2): Conv2d(64, 64, kernel_size=(3, 3), stride=(1, 1), padding=(1, 1))\n",
            "  (3): ReLU(inplace=True)\n",
            "  (4): MaxPool2d(kernel_size=2, stride=2, padding=0, dilation=1, ceil_mode=False)\n",
            "  (5): Conv2d(64, 128, kernel_size=(3, 3), stride=(1, 1), padding=(1, 1))\n",
            "  (6): ReLU(inplace=True)\n",
            "  (7): Conv2d(128, 128, kernel_size=(3, 3), stride=(1, 1), padding=(1, 1))\n",
            "  (8): ReLU(inplace=True)\n",
            "  (9): MaxPool2d(kernel_size=2, stride=2, padding=0, dilation=1, ceil_mode=False)\n",
            "  (10): Conv2d(128, 256, kernel_size=(3, 3), stride=(1, 1), padding=(1, 1))\n",
            "  (11): ReLU(inplace=True)\n",
            "  (12): Conv2d(256, 256, kernel_size=(3, 3), stride=(1, 1), padding=(1, 1))\n",
            "  (13): ReLU(inplace=True)\n",
            "  (14): Conv2d(256, 256, kernel_size=(3, 3), stride=(1, 1), padding=(1, 1))\n",
            "  (15): ReLU(inplace=True)\n",
            "  (16): MaxPool2d(kernel_size=2, stride=2, padding=0, dilation=1, ceil_mode=False)\n",
            "  (17): Conv2d(256, 512, kernel_size=(3, 3), stride=(1, 1), padding=(1, 1))\n",
            "  (18): ReLU(inplace=True)\n",
            "  (19): Conv2d(512, 512, kernel_size=(3, 3), stride=(1, 1), padding=(1, 1))\n",
            "  (20): ReLU(inplace=True)\n",
            "  (21): Conv2d(512, 512, kernel_size=(3, 3), stride=(1, 1), padding=(1, 1))\n",
            "  (22): ReLU(inplace=True)\n",
            "  (23): MaxPool2d(kernel_size=2, stride=2, padding=0, dilation=1, ceil_mode=False)\n",
            "  (24): Conv2d(512, 512, kernel_size=(3, 3), stride=(1, 1), padding=(1, 1))\n",
            "  (25): ReLU(inplace=True)\n",
            "  (26): Conv2d(512, 512, kernel_size=(3, 3), stride=(1, 1), padding=(1, 1))\n",
            "  (27): ReLU(inplace=True)\n",
            "  (28): Conv2d(512, 512, kernel_size=(3, 3), stride=(1, 1), padding=(1, 1))\n",
            "  (29): ReLU(inplace=True)\n",
            "  (30): MaxPool2d(kernel_size=2, stride=2, padding=0, dilation=1, ceil_mode=False)\n",
            ")\n",
            "features.0 Conv2d(3, 64, kernel_size=(3, 3), stride=(1, 1), padding=(1, 1))\n",
            "features.1 ReLU(inplace=True)\n",
            "features.2 Conv2d(64, 64, kernel_size=(3, 3), stride=(1, 1), padding=(1, 1))\n",
            "features.3 ReLU(inplace=True)\n",
            "features.4 MaxPool2d(kernel_size=2, stride=2, padding=0, dilation=1, ceil_mode=False)\n",
            "features.5 Conv2d(64, 128, kernel_size=(3, 3), stride=(1, 1), padding=(1, 1))\n",
            "features.6 ReLU(inplace=True)\n",
            "features.7 Conv2d(128, 128, kernel_size=(3, 3), stride=(1, 1), padding=(1, 1))\n",
            "features.8 ReLU(inplace=True)\n",
            "features.9 MaxPool2d(kernel_size=2, stride=2, padding=0, dilation=1, ceil_mode=False)\n",
            "features.10 Conv2d(128, 256, kernel_size=(3, 3), stride=(1, 1), padding=(1, 1))\n",
            "features.11 ReLU(inplace=True)\n",
            "features.12 Conv2d(256, 256, kernel_size=(3, 3), stride=(1, 1), padding=(1, 1))\n",
            "features.13 ReLU(inplace=True)\n",
            "features.14 Conv2d(256, 256, kernel_size=(3, 3), stride=(1, 1), padding=(1, 1))\n",
            "features.15 ReLU(inplace=True)\n",
            "features.16 MaxPool2d(kernel_size=2, stride=2, padding=0, dilation=1, ceil_mode=False)\n",
            "features.17 Conv2d(256, 512, kernel_size=(3, 3), stride=(1, 1), padding=(1, 1))\n",
            "features.18 ReLU(inplace=True)\n",
            "features.19 Conv2d(512, 512, kernel_size=(3, 3), stride=(1, 1), padding=(1, 1))\n",
            "features.20 ReLU(inplace=True)\n",
            "features.21 Conv2d(512, 512, kernel_size=(3, 3), stride=(1, 1), padding=(1, 1))\n",
            "features.22 ReLU(inplace=True)\n",
            "features.23 MaxPool2d(kernel_size=2, stride=2, padding=0, dilation=1, ceil_mode=False)\n",
            "features.24 Conv2d(512, 512, kernel_size=(3, 3), stride=(1, 1), padding=(1, 1))\n",
            "features.25 ReLU(inplace=True)\n",
            "features.26 Conv2d(512, 512, kernel_size=(3, 3), stride=(1, 1), padding=(1, 1))\n",
            "features.27 ReLU(inplace=True)\n",
            "features.28 Conv2d(512, 512, kernel_size=(3, 3), stride=(1, 1), padding=(1, 1))\n",
            "features.29 ReLU(inplace=True)\n",
            "features.30 MaxPool2d(kernel_size=2, stride=2, padding=0, dilation=1, ceil_mode=False)\n",
            "avgpool AdaptiveAvgPool2d(output_size=(7, 7))\n",
            "classifier Sequential(\n",
            "  (0): Linear(in_features=25088, out_features=4096, bias=True)\n",
            "  (1): ReLU(inplace=True)\n",
            "  (2): Dropout(p=0.5, inplace=False)\n",
            "  (3): Linear(in_features=4096, out_features=4096, bias=True)\n",
            "  (4): ReLU(inplace=True)\n",
            "  (5): Dropout(p=0.5, inplace=False)\n",
            "  (6): Linear(in_features=4096, out_features=1000, bias=True)\n",
            ")\n",
            "classifier.0 Linear(in_features=25088, out_features=4096, bias=True)\n",
            "classifier.1 ReLU(inplace=True)\n",
            "classifier.2 Dropout(p=0.5, inplace=False)\n",
            "classifier.3 Linear(in_features=4096, out_features=4096, bias=True)\n",
            "classifier.4 ReLU(inplace=True)\n",
            "classifier.5 Dropout(p=0.5, inplace=False)\n",
            "classifier.6 Linear(in_features=4096, out_features=1000, bias=True)\n"
          ]
        }
      ]
    },
    {
      "cell_type": "code",
      "source": [
        "# VGG 모델의 완전 연결 층(fc)을 수정하여 출력 유닛의 수를 1로 변경\n",
        "vgg.fc = torch.nn.Linear(1000, 1)\n",
        "\n",
        "# 모델을 GPU로 이동\n",
        "vgg.cuda()"
      ],
      "metadata": {
        "colab": {
          "base_uri": "https://localhost:8080/"
        },
        "id": "0ejSNQ9KjCup",
        "outputId": "2e2f4517-ae46-4c12-c000-e4982006aeb0"
      },
      "execution_count": 29,
      "outputs": [
        {
          "output_type": "execute_result",
          "data": {
            "text/plain": [
              "VGG(\n",
              "  (features): Sequential(\n",
              "    (0): Conv2d(3, 64, kernel_size=(3, 3), stride=(1, 1), padding=(1, 1))\n",
              "    (1): ReLU(inplace=True)\n",
              "    (2): Conv2d(64, 64, kernel_size=(3, 3), stride=(1, 1), padding=(1, 1))\n",
              "    (3): ReLU(inplace=True)\n",
              "    (4): MaxPool2d(kernel_size=2, stride=2, padding=0, dilation=1, ceil_mode=False)\n",
              "    (5): Conv2d(64, 128, kernel_size=(3, 3), stride=(1, 1), padding=(1, 1))\n",
              "    (6): ReLU(inplace=True)\n",
              "    (7): Conv2d(128, 128, kernel_size=(3, 3), stride=(1, 1), padding=(1, 1))\n",
              "    (8): ReLU(inplace=True)\n",
              "    (9): MaxPool2d(kernel_size=2, stride=2, padding=0, dilation=1, ceil_mode=False)\n",
              "    (10): Conv2d(128, 256, kernel_size=(3, 3), stride=(1, 1), padding=(1, 1))\n",
              "    (11): ReLU(inplace=True)\n",
              "    (12): Conv2d(256, 256, kernel_size=(3, 3), stride=(1, 1), padding=(1, 1))\n",
              "    (13): ReLU(inplace=True)\n",
              "    (14): Conv2d(256, 256, kernel_size=(3, 3), stride=(1, 1), padding=(1, 1))\n",
              "    (15): ReLU(inplace=True)\n",
              "    (16): MaxPool2d(kernel_size=2, stride=2, padding=0, dilation=1, ceil_mode=False)\n",
              "    (17): Conv2d(256, 512, kernel_size=(3, 3), stride=(1, 1), padding=(1, 1))\n",
              "    (18): ReLU(inplace=True)\n",
              "    (19): Conv2d(512, 512, kernel_size=(3, 3), stride=(1, 1), padding=(1, 1))\n",
              "    (20): ReLU(inplace=True)\n",
              "    (21): Conv2d(512, 512, kernel_size=(3, 3), stride=(1, 1), padding=(1, 1))\n",
              "    (22): ReLU(inplace=True)\n",
              "    (23): MaxPool2d(kernel_size=2, stride=2, padding=0, dilation=1, ceil_mode=False)\n",
              "    (24): Conv2d(512, 512, kernel_size=(3, 3), stride=(1, 1), padding=(1, 1))\n",
              "    (25): ReLU(inplace=True)\n",
              "    (26): Conv2d(512, 512, kernel_size=(3, 3), stride=(1, 1), padding=(1, 1))\n",
              "    (27): ReLU(inplace=True)\n",
              "    (28): Conv2d(512, 512, kernel_size=(3, 3), stride=(1, 1), padding=(1, 1))\n",
              "    (29): ReLU(inplace=True)\n",
              "    (30): MaxPool2d(kernel_size=2, stride=2, padding=0, dilation=1, ceil_mode=False)\n",
              "  )\n",
              "  (avgpool): AdaptiveAvgPool2d(output_size=(7, 7))\n",
              "  (classifier): Sequential(\n",
              "    (0): Linear(in_features=25088, out_features=4096, bias=True)\n",
              "    (1): ReLU(inplace=True)\n",
              "    (2): Dropout(p=0.5, inplace=False)\n",
              "    (3): Linear(in_features=4096, out_features=4096, bias=True)\n",
              "    (4): ReLU(inplace=True)\n",
              "    (5): Dropout(p=0.5, inplace=False)\n",
              "    (6): Linear(in_features=4096, out_features=1000, bias=True)\n",
              "  )\n",
              "  (fc): Linear(in_features=1000, out_features=1, bias=True)\n",
              ")"
            ]
          },
          "metadata": {},
          "execution_count": 29
        }
      ]
    },
    {
      "cell_type": "code",
      "source": [
        "# 다시 사전 학습된 VGG16 모델을 불러오기\n",
        "vgg = models.vgg16(pretrained=True).to(device)\n",
        "\n",
        "# vgg16 모델의 구조 출력\n",
        "print(vgg)"
      ],
      "metadata": {
        "colab": {
          "base_uri": "https://localhost:8080/"
        },
        "id": "UT0DT7BrjN6z",
        "outputId": "638f5bbc-8bf6-43cd-b23a-4a60b631abcd"
      },
      "execution_count": 30,
      "outputs": [
        {
          "output_type": "stream",
          "name": "stdout",
          "text": [
            "VGG(\n",
            "  (features): Sequential(\n",
            "    (0): Conv2d(3, 64, kernel_size=(3, 3), stride=(1, 1), padding=(1, 1))\n",
            "    (1): ReLU(inplace=True)\n",
            "    (2): Conv2d(64, 64, kernel_size=(3, 3), stride=(1, 1), padding=(1, 1))\n",
            "    (3): ReLU(inplace=True)\n",
            "    (4): MaxPool2d(kernel_size=2, stride=2, padding=0, dilation=1, ceil_mode=False)\n",
            "    (5): Conv2d(64, 128, kernel_size=(3, 3), stride=(1, 1), padding=(1, 1))\n",
            "    (6): ReLU(inplace=True)\n",
            "    (7): Conv2d(128, 128, kernel_size=(3, 3), stride=(1, 1), padding=(1, 1))\n",
            "    (8): ReLU(inplace=True)\n",
            "    (9): MaxPool2d(kernel_size=2, stride=2, padding=0, dilation=1, ceil_mode=False)\n",
            "    (10): Conv2d(128, 256, kernel_size=(3, 3), stride=(1, 1), padding=(1, 1))\n",
            "    (11): ReLU(inplace=True)\n",
            "    (12): Conv2d(256, 256, kernel_size=(3, 3), stride=(1, 1), padding=(1, 1))\n",
            "    (13): ReLU(inplace=True)\n",
            "    (14): Conv2d(256, 256, kernel_size=(3, 3), stride=(1, 1), padding=(1, 1))\n",
            "    (15): ReLU(inplace=True)\n",
            "    (16): MaxPool2d(kernel_size=2, stride=2, padding=0, dilation=1, ceil_mode=False)\n",
            "    (17): Conv2d(256, 512, kernel_size=(3, 3), stride=(1, 1), padding=(1, 1))\n",
            "    (18): ReLU(inplace=True)\n",
            "    (19): Conv2d(512, 512, kernel_size=(3, 3), stride=(1, 1), padding=(1, 1))\n",
            "    (20): ReLU(inplace=True)\n",
            "    (21): Conv2d(512, 512, kernel_size=(3, 3), stride=(1, 1), padding=(1, 1))\n",
            "    (22): ReLU(inplace=True)\n",
            "    (23): MaxPool2d(kernel_size=2, stride=2, padding=0, dilation=1, ceil_mode=False)\n",
            "    (24): Conv2d(512, 512, kernel_size=(3, 3), stride=(1, 1), padding=(1, 1))\n",
            "    (25): ReLU(inplace=True)\n",
            "    (26): Conv2d(512, 512, kernel_size=(3, 3), stride=(1, 1), padding=(1, 1))\n",
            "    (27): ReLU(inplace=True)\n",
            "    (28): Conv2d(512, 512, kernel_size=(3, 3), stride=(1, 1), padding=(1, 1))\n",
            "    (29): ReLU(inplace=True)\n",
            "    (30): MaxPool2d(kernel_size=2, stride=2, padding=0, dilation=1, ceil_mode=False)\n",
            "  )\n",
            "  (avgpool): AdaptiveAvgPool2d(output_size=(7, 7))\n",
            "  (classifier): Sequential(\n",
            "    (0): Linear(in_features=25088, out_features=4096, bias=True)\n",
            "    (1): ReLU(inplace=True)\n",
            "    (2): Dropout(p=0.5, inplace=False)\n",
            "    (3): Linear(in_features=4096, out_features=4096, bias=True)\n",
            "    (4): ReLU(inplace=True)\n",
            "    (5): Dropout(p=0.5, inplace=False)\n",
            "    (6): Linear(in_features=4096, out_features=1000, bias=True)\n",
            "  )\n",
            ")\n"
          ]
        }
      ]
    },
    {
      "cell_type": "code",
      "source": [
        "# VGG16 모델의 분류기(classifier) 중 마지막 선형 층을 수정하여 출력 유닛의 수를 1로 변경\n",
        "vgg.classifier._modules['6'] = torch.nn.Linear(4096, 1)\n",
        "\n",
        "# 모델을 GPU로 이동\n",
        "vgg.cuda()"
      ],
      "metadata": {
        "colab": {
          "base_uri": "https://localhost:8080/"
        },
        "id": "IZ9oJPGFjeBV",
        "outputId": "15bd7773-4520-449e-9eca-12635401b6d3"
      },
      "execution_count": 32,
      "outputs": [
        {
          "output_type": "execute_result",
          "data": {
            "text/plain": [
              "VGG(\n",
              "  (features): Sequential(\n",
              "    (0): Conv2d(3, 64, kernel_size=(3, 3), stride=(1, 1), padding=(1, 1))\n",
              "    (1): ReLU(inplace=True)\n",
              "    (2): Conv2d(64, 64, kernel_size=(3, 3), stride=(1, 1), padding=(1, 1))\n",
              "    (3): ReLU(inplace=True)\n",
              "    (4): MaxPool2d(kernel_size=2, stride=2, padding=0, dilation=1, ceil_mode=False)\n",
              "    (5): Conv2d(64, 128, kernel_size=(3, 3), stride=(1, 1), padding=(1, 1))\n",
              "    (6): ReLU(inplace=True)\n",
              "    (7): Conv2d(128, 128, kernel_size=(3, 3), stride=(1, 1), padding=(1, 1))\n",
              "    (8): ReLU(inplace=True)\n",
              "    (9): MaxPool2d(kernel_size=2, stride=2, padding=0, dilation=1, ceil_mode=False)\n",
              "    (10): Conv2d(128, 256, kernel_size=(3, 3), stride=(1, 1), padding=(1, 1))\n",
              "    (11): ReLU(inplace=True)\n",
              "    (12): Conv2d(256, 256, kernel_size=(3, 3), stride=(1, 1), padding=(1, 1))\n",
              "    (13): ReLU(inplace=True)\n",
              "    (14): Conv2d(256, 256, kernel_size=(3, 3), stride=(1, 1), padding=(1, 1))\n",
              "    (15): ReLU(inplace=True)\n",
              "    (16): MaxPool2d(kernel_size=2, stride=2, padding=0, dilation=1, ceil_mode=False)\n",
              "    (17): Conv2d(256, 512, kernel_size=(3, 3), stride=(1, 1), padding=(1, 1))\n",
              "    (18): ReLU(inplace=True)\n",
              "    (19): Conv2d(512, 512, kernel_size=(3, 3), stride=(1, 1), padding=(1, 1))\n",
              "    (20): ReLU(inplace=True)\n",
              "    (21): Conv2d(512, 512, kernel_size=(3, 3), stride=(1, 1), padding=(1, 1))\n",
              "    (22): ReLU(inplace=True)\n",
              "    (23): MaxPool2d(kernel_size=2, stride=2, padding=0, dilation=1, ceil_mode=False)\n",
              "    (24): Conv2d(512, 512, kernel_size=(3, 3), stride=(1, 1), padding=(1, 1))\n",
              "    (25): ReLU(inplace=True)\n",
              "    (26): Conv2d(512, 512, kernel_size=(3, 3), stride=(1, 1), padding=(1, 1))\n",
              "    (27): ReLU(inplace=True)\n",
              "    (28): Conv2d(512, 512, kernel_size=(3, 3), stride=(1, 1), padding=(1, 1))\n",
              "    (29): ReLU(inplace=True)\n",
              "    (30): MaxPool2d(kernel_size=2, stride=2, padding=0, dilation=1, ceil_mode=False)\n",
              "  )\n",
              "  (avgpool): AdaptiveAvgPool2d(output_size=(7, 7))\n",
              "  (classifier): Sequential(\n",
              "    (0): Linear(in_features=25088, out_features=4096, bias=True)\n",
              "    (1): ReLU(inplace=True)\n",
              "    (2): Dropout(p=0.5, inplace=False)\n",
              "    (3): Linear(in_features=4096, out_features=4096, bias=True)\n",
              "    (4): ReLU(inplace=True)\n",
              "    (5): Dropout(p=0.5, inplace=False)\n",
              "    (6): Linear(in_features=4096, out_features=1, bias=True)\n",
              "  )\n",
              ")"
            ]
          },
          "metadata": {},
          "execution_count": 32
        }
      ]
    },
    {
      "cell_type": "markdown",
      "source": [
        "## 3. Pretrained Model로 나만의 모델 만들기"
      ],
      "metadata": {
        "id": "XsjdLyQWj8Da"
      }
    },
    {
      "cell_type": "code",
      "source": [
        "# 'data/' 경로의 이미지 데이터를 불러오고 전처리를 적용\n",
        "dataset = datasets.ImageFolder(root =\"data/\",\n",
        "                               transform=transforms.Compose([\n",
        "                                   transforms.Resize(224),\n",
        "                                   transforms.CenterCrop(224),\n",
        "                                   transforms.ToTensor(),\n",
        "                                   transforms.Normalize((0.5, 0.5, 0.5),\n",
        "                                                        (0.5, 0.5, 0.5))\n",
        "                               ]))\n",
        "dataloader = torch.utils.data.DataLoader(\n",
        "    dataset,\n",
        "    batch_size=8,\n",
        "    shuffle=True,\n",
        "    num_workers=8\n",
        ")"
      ],
      "metadata": {
        "id": "Q-Sa8ahyj-ig"
      },
      "execution_count": 33,
      "outputs": []
    },
    {
      "cell_type": "code",
      "source": [
        "# 새로운 신경망 모델을 정의\n",
        "class MyNewNet(nn.Module):\n",
        "    def __init__(self):\n",
        "        super(MyNewNet, self).__init__()\n",
        "        self.vgg19 = models.vgg19(pretrained=True)\n",
        "        self.linear_layers = nn.Linear(1000, 1) # 추가적인 선형 층을 정의\n",
        "\n",
        "    def forward(self, x):\n",
        "      x = self.vgg19(x)\n",
        "      return self.linear_layers(x)"
      ],
      "metadata": {
        "id": "K_DKSC1GkTTp"
      },
      "execution_count": 34,
      "outputs": []
    },
    {
      "cell_type": "code",
      "source": [
        "device = torch.device('cuda' if torch.cuda.is_available() else 'cpu')\n",
        "\n",
        "# 모델을 초기화하고 GPU로 이동\n",
        "my_model = MyNewNet()\n",
        "my_model = my_model.to(device)"
      ],
      "metadata": {
        "colab": {
          "base_uri": "https://localhost:8080/"
        },
        "id": "MqnCn0Bek7e-",
        "outputId": "f3ef73fe-3602-4a3f-8d21-9829bc7698cf"
      },
      "execution_count": 35,
      "outputs": [
        {
          "output_type": "stream",
          "name": "stderr",
          "text": [
            "Downloading: \"https://download.pytorch.org/models/vgg19-dcbb9e9d.pth\" to /root/.cache/torch/hub/checkpoints/vgg19-dcbb9e9d.pth\n",
            "100%|██████████| 548M/548M [00:05<00:00, 114MB/s]\n"
          ]
        }
      ]
    },
    {
      "cell_type": "code",
      "source": [
        "# 모델의 구조를 출력\n",
        "print(my_model)"
      ],
      "metadata": {
        "colab": {
          "base_uri": "https://localhost:8080/"
        },
        "id": "Wj816PBalNxi",
        "outputId": "454cc765-e9e6-4040-9df4-a99993922195"
      },
      "execution_count": 36,
      "outputs": [
        {
          "output_type": "stream",
          "name": "stdout",
          "text": [
            "MyNewNet(\n",
            "  (vgg19): VGG(\n",
            "    (features): Sequential(\n",
            "      (0): Conv2d(3, 64, kernel_size=(3, 3), stride=(1, 1), padding=(1, 1))\n",
            "      (1): ReLU(inplace=True)\n",
            "      (2): Conv2d(64, 64, kernel_size=(3, 3), stride=(1, 1), padding=(1, 1))\n",
            "      (3): ReLU(inplace=True)\n",
            "      (4): MaxPool2d(kernel_size=2, stride=2, padding=0, dilation=1, ceil_mode=False)\n",
            "      (5): Conv2d(64, 128, kernel_size=(3, 3), stride=(1, 1), padding=(1, 1))\n",
            "      (6): ReLU(inplace=True)\n",
            "      (7): Conv2d(128, 128, kernel_size=(3, 3), stride=(1, 1), padding=(1, 1))\n",
            "      (8): ReLU(inplace=True)\n",
            "      (9): MaxPool2d(kernel_size=2, stride=2, padding=0, dilation=1, ceil_mode=False)\n",
            "      (10): Conv2d(128, 256, kernel_size=(3, 3), stride=(1, 1), padding=(1, 1))\n",
            "      (11): ReLU(inplace=True)\n",
            "      (12): Conv2d(256, 256, kernel_size=(3, 3), stride=(1, 1), padding=(1, 1))\n",
            "      (13): ReLU(inplace=True)\n",
            "      (14): Conv2d(256, 256, kernel_size=(3, 3), stride=(1, 1), padding=(1, 1))\n",
            "      (15): ReLU(inplace=True)\n",
            "      (16): Conv2d(256, 256, kernel_size=(3, 3), stride=(1, 1), padding=(1, 1))\n",
            "      (17): ReLU(inplace=True)\n",
            "      (18): MaxPool2d(kernel_size=2, stride=2, padding=0, dilation=1, ceil_mode=False)\n",
            "      (19): Conv2d(256, 512, kernel_size=(3, 3), stride=(1, 1), padding=(1, 1))\n",
            "      (20): ReLU(inplace=True)\n",
            "      (21): Conv2d(512, 512, kernel_size=(3, 3), stride=(1, 1), padding=(1, 1))\n",
            "      (22): ReLU(inplace=True)\n",
            "      (23): Conv2d(512, 512, kernel_size=(3, 3), stride=(1, 1), padding=(1, 1))\n",
            "      (24): ReLU(inplace=True)\n",
            "      (25): Conv2d(512, 512, kernel_size=(3, 3), stride=(1, 1), padding=(1, 1))\n",
            "      (26): ReLU(inplace=True)\n",
            "      (27): MaxPool2d(kernel_size=2, stride=2, padding=0, dilation=1, ceil_mode=False)\n",
            "      (28): Conv2d(512, 512, kernel_size=(3, 3), stride=(1, 1), padding=(1, 1))\n",
            "      (29): ReLU(inplace=True)\n",
            "      (30): Conv2d(512, 512, kernel_size=(3, 3), stride=(1, 1), padding=(1, 1))\n",
            "      (31): ReLU(inplace=True)\n",
            "      (32): Conv2d(512, 512, kernel_size=(3, 3), stride=(1, 1), padding=(1, 1))\n",
            "      (33): ReLU(inplace=True)\n",
            "      (34): Conv2d(512, 512, kernel_size=(3, 3), stride=(1, 1), padding=(1, 1))\n",
            "      (35): ReLU(inplace=True)\n",
            "      (36): MaxPool2d(kernel_size=2, stride=2, padding=0, dilation=1, ceil_mode=False)\n",
            "    )\n",
            "    (avgpool): AdaptiveAvgPool2d(output_size=(7, 7))\n",
            "    (classifier): Sequential(\n",
            "      (0): Linear(in_features=25088, out_features=4096, bias=True)\n",
            "      (1): ReLU(inplace=True)\n",
            "      (2): Dropout(p=0.5, inplace=False)\n",
            "      (3): Linear(in_features=4096, out_features=4096, bias=True)\n",
            "      (4): ReLU(inplace=True)\n",
            "      (5): Dropout(p=0.5, inplace=False)\n",
            "      (6): Linear(in_features=4096, out_features=1000, bias=True)\n",
            "    )\n",
            "  )\n",
            "  (linear_layers): Linear(in_features=1000, out_features=1, bias=True)\n",
            ")\n"
          ]
        }
      ]
    },
    {
      "cell_type": "code",
      "source": [
        "# 모델의 모든 파라미터를 고정\n",
        "for param in my_model.parameters():\n",
        "  param.requires_grad = False"
      ],
      "metadata": {
        "id": "s7IavTsZlRcs"
      },
      "execution_count": 37,
      "outputs": []
    },
    {
      "cell_type": "code",
      "source": [
        "# 선형 층의 파라미터만 학습 가능하도록 설정\n",
        "for param in my_model.linear_layers.parameters():\n",
        "  param.requires_grad = True"
      ],
      "metadata": {
        "id": "I_9JXBXjlYBz"
      },
      "execution_count": 38,
      "outputs": []
    },
    {
      "cell_type": "code",
      "source": [
        "my_model.eval()"
      ],
      "metadata": {
        "colab": {
          "base_uri": "https://localhost:8080/"
        },
        "id": "rpxbZBzhle_n",
        "outputId": "def379a8-551a-460d-8794-517dcb36667a"
      },
      "execution_count": 39,
      "outputs": [
        {
          "output_type": "execute_result",
          "data": {
            "text/plain": [
              "MyNewNet(\n",
              "  (vgg19): VGG(\n",
              "    (features): Sequential(\n",
              "      (0): Conv2d(3, 64, kernel_size=(3, 3), stride=(1, 1), padding=(1, 1))\n",
              "      (1): ReLU(inplace=True)\n",
              "      (2): Conv2d(64, 64, kernel_size=(3, 3), stride=(1, 1), padding=(1, 1))\n",
              "      (3): ReLU(inplace=True)\n",
              "      (4): MaxPool2d(kernel_size=2, stride=2, padding=0, dilation=1, ceil_mode=False)\n",
              "      (5): Conv2d(64, 128, kernel_size=(3, 3), stride=(1, 1), padding=(1, 1))\n",
              "      (6): ReLU(inplace=True)\n",
              "      (7): Conv2d(128, 128, kernel_size=(3, 3), stride=(1, 1), padding=(1, 1))\n",
              "      (8): ReLU(inplace=True)\n",
              "      (9): MaxPool2d(kernel_size=2, stride=2, padding=0, dilation=1, ceil_mode=False)\n",
              "      (10): Conv2d(128, 256, kernel_size=(3, 3), stride=(1, 1), padding=(1, 1))\n",
              "      (11): ReLU(inplace=True)\n",
              "      (12): Conv2d(256, 256, kernel_size=(3, 3), stride=(1, 1), padding=(1, 1))\n",
              "      (13): ReLU(inplace=True)\n",
              "      (14): Conv2d(256, 256, kernel_size=(3, 3), stride=(1, 1), padding=(1, 1))\n",
              "      (15): ReLU(inplace=True)\n",
              "      (16): Conv2d(256, 256, kernel_size=(3, 3), stride=(1, 1), padding=(1, 1))\n",
              "      (17): ReLU(inplace=True)\n",
              "      (18): MaxPool2d(kernel_size=2, stride=2, padding=0, dilation=1, ceil_mode=False)\n",
              "      (19): Conv2d(256, 512, kernel_size=(3, 3), stride=(1, 1), padding=(1, 1))\n",
              "      (20): ReLU(inplace=True)\n",
              "      (21): Conv2d(512, 512, kernel_size=(3, 3), stride=(1, 1), padding=(1, 1))\n",
              "      (22): ReLU(inplace=True)\n",
              "      (23): Conv2d(512, 512, kernel_size=(3, 3), stride=(1, 1), padding=(1, 1))\n",
              "      (24): ReLU(inplace=True)\n",
              "      (25): Conv2d(512, 512, kernel_size=(3, 3), stride=(1, 1), padding=(1, 1))\n",
              "      (26): ReLU(inplace=True)\n",
              "      (27): MaxPool2d(kernel_size=2, stride=2, padding=0, dilation=1, ceil_mode=False)\n",
              "      (28): Conv2d(512, 512, kernel_size=(3, 3), stride=(1, 1), padding=(1, 1))\n",
              "      (29): ReLU(inplace=True)\n",
              "      (30): Conv2d(512, 512, kernel_size=(3, 3), stride=(1, 1), padding=(1, 1))\n",
              "      (31): ReLU(inplace=True)\n",
              "      (32): Conv2d(512, 512, kernel_size=(3, 3), stride=(1, 1), padding=(1, 1))\n",
              "      (33): ReLU(inplace=True)\n",
              "      (34): Conv2d(512, 512, kernel_size=(3, 3), stride=(1, 1), padding=(1, 1))\n",
              "      (35): ReLU(inplace=True)\n",
              "      (36): MaxPool2d(kernel_size=2, stride=2, padding=0, dilation=1, ceil_mode=False)\n",
              "    )\n",
              "    (avgpool): AdaptiveAvgPool2d(output_size=(7, 7))\n",
              "    (classifier): Sequential(\n",
              "      (0): Linear(in_features=25088, out_features=4096, bias=True)\n",
              "      (1): ReLU(inplace=True)\n",
              "      (2): Dropout(p=0.5, inplace=False)\n",
              "      (3): Linear(in_features=4096, out_features=4096, bias=True)\n",
              "      (4): ReLU(inplace=True)\n",
              "      (5): Dropout(p=0.5, inplace=False)\n",
              "      (6): Linear(in_features=4096, out_features=1000, bias=True)\n",
              "    )\n",
              "  )\n",
              "  (linear_layers): Linear(in_features=1000, out_features=1, bias=True)\n",
              ")"
            ]
          },
          "metadata": {},
          "execution_count": 39
        }
      ]
    },
    {
      "cell_type": "code",
      "source": [
        "# 데이터 로더에서 첫 번째 배치를 가져오기\n",
        "x = next(iter(dataloader))"
      ],
      "metadata": {
        "colab": {
          "base_uri": "https://localhost:8080/"
        },
        "id": "WxkIZWGylhR9",
        "outputId": "ded04bbf-9b0b-4585-c085-102a0386643f"
      },
      "execution_count": 41,
      "outputs": [
        {
          "output_type": "execute_result",
          "data": {
            "text/plain": [
              "[tensor([[[[-0.9765, -0.9765, -0.8902,  ..., -0.9216, -0.8196, -0.7255],\n",
              "           [-0.9608, -0.9765, -0.8667,  ..., -0.8980, -0.7882, -0.7333],\n",
              "           [-0.9451, -0.9686, -0.8510,  ..., -0.9059, -0.8353, -0.8275],\n",
              "           ...,\n",
              "           [-0.7255, -0.7333, -0.7490,  ..., -0.8510, -0.8510, -0.8510],\n",
              "           [-0.7255, -0.7333, -0.7255,  ..., -0.8431, -0.8353, -0.8431],\n",
              "           [-0.7255, -0.7333, -0.7176,  ..., -0.8510, -0.8275, -0.8275]],\n",
              " \n",
              "          [[-0.9686, -0.9529, -0.8667,  ..., -0.9843, -0.8902, -0.8039],\n",
              "           [-0.9529, -0.9529, -0.8431,  ..., -0.9686, -0.8667, -0.8118],\n",
              "           [-0.9373, -0.9451, -0.8275,  ..., -0.9686, -0.8980, -0.8902],\n",
              "           ...,\n",
              "           [-0.8667, -0.8824, -0.8980,  ..., -0.8902, -0.8902, -0.8902],\n",
              "           [-0.8667, -0.8824, -0.8745,  ..., -0.8824, -0.8745, -0.8824],\n",
              "           [-0.8667, -0.8745, -0.8667,  ..., -0.8902, -0.8667, -0.8667]],\n",
              " \n",
              "          [[-0.9765, -0.9608, -0.8745,  ..., -0.9922, -0.8980, -0.8118],\n",
              "           [-0.9608, -0.9608, -0.8510,  ..., -0.9765, -0.8745, -0.8196],\n",
              "           [-0.9373, -0.9529, -0.8353,  ..., -0.9843, -0.9137, -0.9059],\n",
              "           ...,\n",
              "           [-0.9216, -0.9373, -0.9529,  ..., -0.9373, -0.9373, -0.9216],\n",
              "           [-0.9216, -0.9373, -0.9294,  ..., -0.9294, -0.9216, -0.9137],\n",
              "           [-0.9216, -0.9294, -0.9216,  ..., -0.9373, -0.9137, -0.8980]]],\n",
              " \n",
              " \n",
              "         [[[-0.9765, -0.9765, -0.9686,  ..., -0.9686, -0.9529, -0.9608],\n",
              "           [-0.9765, -0.9765, -0.9686,  ..., -0.9765, -0.9843, -0.9922],\n",
              "           [-0.9765, -0.9765, -0.9686,  ..., -1.0000, -1.0000, -0.9922],\n",
              "           ...,\n",
              "           [-0.8510, -0.8667, -0.8510,  ..., -0.9294, -0.9529, -0.9608],\n",
              "           [-0.8510, -0.8588, -0.8588,  ..., -0.9451, -0.9451, -0.9608],\n",
              "           [-0.8824, -0.8667, -0.8667,  ..., -0.9608, -0.9529, -0.9608]],\n",
              " \n",
              "          [[-0.9765, -0.9765, -0.9686,  ..., -0.9765, -0.9843, -0.9922],\n",
              "           [-0.9765, -0.9765, -0.9686,  ..., -0.9608, -0.9843, -0.9922],\n",
              "           [-0.9765, -0.9765, -0.9686,  ..., -0.9765, -0.9765, -0.9765],\n",
              "           ...,\n",
              "           [-0.7098, -0.7490, -0.7412,  ..., -0.9294, -0.9529, -0.9608],\n",
              "           [-0.7098, -0.7255, -0.7255,  ..., -0.9451, -0.9529, -0.9608],\n",
              "           [-0.7647, -0.7569, -0.7569,  ..., -0.9608, -0.9608, -0.9608]],\n",
              " \n",
              "          [[-0.9765, -0.9765, -0.9686,  ..., -0.9922, -0.9922, -1.0000],\n",
              "           [-0.9765, -0.9765, -0.9686,  ..., -0.9843, -0.9922, -1.0000],\n",
              "           [-0.9922, -0.9922, -0.9843,  ..., -0.9843, -0.9843, -0.9765],\n",
              "           ...,\n",
              "           [-0.8196, -0.8510, -0.8588,  ..., -0.9373, -0.9686, -0.9765],\n",
              "           [-0.8118, -0.8353, -0.8510,  ..., -0.9451, -0.9686, -0.9765],\n",
              "           [-0.8667, -0.8588, -0.8745,  ..., -0.9608, -0.9765, -0.9765]]],\n",
              " \n",
              " \n",
              "         [[[-0.5373, -0.5451, -0.5373,  ..., -0.3647, -0.3882, -0.5137],\n",
              "           [-0.3882, -0.4039, -0.3725,  ..., -0.5686, -0.5608, -0.5608],\n",
              "           [-0.1059, -0.1216, -0.1059,  ..., -0.5216, -0.5216, -0.5059],\n",
              "           ...,\n",
              "           [-0.1451, -0.1373, -0.1216,  ..., -0.5843, -0.5608, -0.5686],\n",
              "           [-0.1451, -0.1529, -0.1373,  ..., -0.5765, -0.6157, -0.5843],\n",
              "           [-0.1765, -0.1765, -0.1765,  ..., -0.5843, -0.6000, -0.5765]],\n",
              " \n",
              "          [[-0.5843, -0.5843, -0.5686,  ..., -0.3647, -0.3882, -0.5216],\n",
              "           [-0.4353, -0.4431, -0.4118,  ..., -0.5765, -0.5686, -0.5765],\n",
              "           [-0.1529, -0.1608, -0.1451,  ..., -0.5373, -0.5373, -0.5216],\n",
              "           ...,\n",
              "           [-0.4980, -0.4902, -0.4745,  ..., -0.5216, -0.5059, -0.5373],\n",
              "           [-0.4980, -0.5059, -0.4902,  ..., -0.5216, -0.5608, -0.5529],\n",
              "           [-0.5294, -0.5294, -0.5294,  ..., -0.5373, -0.5608, -0.5451]],\n",
              " \n",
              "          [[-0.5843, -0.5843, -0.5608,  ..., -0.3490, -0.3647, -0.4824],\n",
              "           [-0.4196, -0.4275, -0.3804,  ..., -0.5765, -0.5608, -0.5529],\n",
              "           [-0.1216, -0.1294, -0.1059,  ..., -0.5294, -0.5216, -0.4980],\n",
              "           ...,\n",
              "           [-0.7412, -0.7333, -0.7255,  ..., -0.5059, -0.4902, -0.5294],\n",
              "           [-0.7569, -0.7569, -0.7412,  ..., -0.4902, -0.5451, -0.5373],\n",
              "           [-0.7961, -0.7882, -0.7804,  ..., -0.5059, -0.5294, -0.5294]]],\n",
              " \n",
              " \n",
              "         ...,\n",
              " \n",
              " \n",
              "         [[[ 0.1294,  0.1843,  0.3725,  ...,  0.9843,  0.9373,  0.7490],\n",
              "           [ 0.1608,  0.2157,  0.4353,  ...,  0.9922,  0.9059,  0.6235],\n",
              "           [ 0.1765,  0.2706,  0.4353,  ...,  0.9843,  0.9294,  0.5765],\n",
              "           ...,\n",
              "           [-0.4667, -0.4902, -0.4902,  ..., -0.1294, -0.1608, -0.2000],\n",
              "           [-0.5843, -0.6078, -0.5765,  ..., -0.2627, -0.3176, -0.3255],\n",
              "           [-0.5922, -0.6157, -0.6078,  ..., -0.3020, -0.3412, -0.3255]],\n",
              " \n",
              "          [[ 0.0824,  0.1373,  0.2627,  ...,  0.9843,  0.9294,  0.7255],\n",
              "           [ 0.1059,  0.1686,  0.3176,  ...,  0.9765,  0.8980,  0.6078],\n",
              "           [ 0.1216,  0.2157,  0.3176,  ...,  1.0000,  0.9373,  0.5686],\n",
              "           ...,\n",
              "           [-0.6627, -0.6863, -0.6471,  ..., -0.1608, -0.2000, -0.2314],\n",
              "           [-0.7647, -0.7882, -0.7333,  ..., -0.2863, -0.3412, -0.3569],\n",
              "           [-0.8039, -0.8275, -0.7804,  ..., -0.3255, -0.3725, -0.3569]],\n",
              " \n",
              "          [[-0.0196,  0.0353,  0.0745,  ...,  0.9843,  0.9765,  0.7804],\n",
              "           [-0.0196,  0.0510,  0.1294,  ...,  0.9922,  0.9529,  0.6706],\n",
              "           [-0.0275,  0.0745,  0.1137,  ...,  0.9843,  0.9529,  0.6157],\n",
              "           ...,\n",
              "           [-0.6392, -0.6549, -0.6157,  ..., -0.2471, -0.2941, -0.3255],\n",
              "           [-0.7490, -0.7647, -0.7176,  ..., -0.3647, -0.4196, -0.4431],\n",
              "           [-0.7882, -0.8039, -0.7569,  ..., -0.3961, -0.4431, -0.4431]]],\n",
              " \n",
              " \n",
              "         [[[ 0.3412,  0.3333,  0.3333,  ...,  0.4118,  0.4039,  0.3882],\n",
              "           [ 0.3255,  0.3176,  0.3255,  ...,  0.4588,  0.4431,  0.4353],\n",
              "           [ 0.3333,  0.3255,  0.3255,  ...,  0.6078,  0.5216,  0.4667],\n",
              "           ...,\n",
              "           [ 0.2471,  0.3255,  0.3333,  ...,  0.2471,  0.2941,  0.3176],\n",
              "           [ 0.3020,  0.3020,  0.2235,  ...,  0.2706,  0.3333,  0.3490],\n",
              "           [ 0.2549,  0.2863,  0.3255,  ...,  0.2627,  0.3020,  0.3176]],\n",
              " \n",
              "          [[ 0.2000,  0.1922,  0.1843,  ...,  0.5451,  0.5373,  0.5137],\n",
              "           [ 0.1843,  0.1765,  0.1765,  ...,  0.5765,  0.5608,  0.5451],\n",
              "           [ 0.1922,  0.1843,  0.1843,  ...,  0.6863,  0.6078,  0.5529],\n",
              "           ...,\n",
              "           [ 0.1529,  0.2314,  0.2314,  ...,  0.0118,  0.0667,  0.1216],\n",
              "           [ 0.2000,  0.2000,  0.1216,  ...,  0.0588,  0.1294,  0.1608],\n",
              "           [ 0.1529,  0.1843,  0.2235,  ...,  0.0824,  0.1137,  0.1216]],\n",
              " \n",
              "          [[ 0.1216,  0.1216,  0.1294,  ...,  0.7647,  0.7569,  0.7490],\n",
              "           [ 0.1059,  0.1059,  0.1216,  ...,  0.7882,  0.7725,  0.7725],\n",
              "           [ 0.0980,  0.1059,  0.1137,  ...,  0.8902,  0.8196,  0.7647],\n",
              "           ...,\n",
              "           [ 0.1843,  0.2784,  0.2941,  ...,  0.0431,  0.0902,  0.0980],\n",
              "           [ 0.2549,  0.2549,  0.1843,  ...,  0.0510,  0.1294,  0.1137],\n",
              "           [ 0.2078,  0.2392,  0.2941,  ...,  0.0431,  0.0824,  0.0745]]],\n",
              " \n",
              " \n",
              "         [[[-0.8039, -0.6235, -0.6235,  ...,  0.4353,  0.0824, -0.2941],\n",
              "           [-0.9059, -0.7412, -0.6392,  ..., -0.1843, -0.1137, -0.2471],\n",
              "           [-0.9843, -0.8980, -0.7255,  ..., -0.7490, -0.2863, -0.3961],\n",
              "           ...,\n",
              "           [ 1.0000,  1.0000,  1.0000,  ..., -0.6000, -0.5843, -0.5059],\n",
              "           [ 1.0000,  1.0000,  1.0000,  ..., -0.6314, -0.5451, -0.3569],\n",
              "           [ 1.0000,  1.0000,  1.0000,  ..., -0.6314, -0.4667, -0.1765]],\n",
              " \n",
              "          [[-0.7725, -0.5529, -0.5137,  ...,  0.6549,  0.3176, -0.1137],\n",
              "           [-0.8745, -0.6706, -0.5373,  ...,  0.0196,  0.1137, -0.0745],\n",
              "           [-0.9686, -0.8353, -0.6314,  ..., -0.5608, -0.0824, -0.2471],\n",
              "           ...,\n",
              "           [ 0.7882,  0.7804,  0.7804,  ..., -0.3882, -0.3647, -0.2549],\n",
              "           [ 0.7804,  0.7804,  0.7725,  ..., -0.4196, -0.3255, -0.1137],\n",
              "           [ 0.7804,  0.7725,  0.7647,  ..., -0.4196, -0.2471,  0.0667]],\n",
              " \n",
              "          [[-0.7804, -0.5765, -0.5529,  ...,  0.6784,  0.3412, -0.0980],\n",
              "           [-0.8902, -0.6941, -0.5686,  ...,  0.0431,  0.1294, -0.0588],\n",
              "           [-0.9765, -0.8588, -0.6627,  ..., -0.5451, -0.0667, -0.2392],\n",
              "           ...,\n",
              "           [ 0.8039,  0.7961,  0.7961,  ..., -0.4275, -0.3882, -0.2314],\n",
              "           [ 0.7961,  0.7961,  0.7882,  ..., -0.4588, -0.3490, -0.0510],\n",
              "           [ 0.7804,  0.7804,  0.7725,  ..., -0.4588, -0.2627,  0.1529]]]]),\n",
              " tensor([1, 0, 1, 0, 0, 0, 1, 1])]"
            ]
          },
          "metadata": {},
          "execution_count": 41
        }
      ]
    },
    {
      "cell_type": "code",
      "source": [
        "# 입력 데이터의 형태를 출력\n",
        "x[0].shape"
      ],
      "metadata": {
        "colab": {
          "base_uri": "https://localhost:8080/"
        },
        "id": "dZNhw2wZl0ON",
        "outputId": "4df05d28-2036-4343-c04f-7c358deb1473"
      },
      "execution_count": 44,
      "outputs": [
        {
          "output_type": "execute_result",
          "data": {
            "text/plain": [
              "torch.Size([8, 3, 224, 224])"
            ]
          },
          "metadata": {},
          "execution_count": 44
        }
      ]
    },
    {
      "cell_type": "code",
      "source": [
        "my_model(x[0].to(device))"
      ],
      "metadata": {
        "colab": {
          "base_uri": "https://localhost:8080/"
        },
        "id": "d9hzn1eFl6I1",
        "outputId": "45d98bf1-7030-4db8-b09a-3c225d132a37"
      },
      "execution_count": 45,
      "outputs": [
        {
          "output_type": "execute_result",
          "data": {
            "text/plain": [
              "tensor([[-0.5986],\n",
              "        [ 0.8094],\n",
              "        [ 2.2728],\n",
              "        [-0.5023],\n",
              "        [-0.5125],\n",
              "        [-0.5517],\n",
              "        [ 1.8294],\n",
              "        [ 1.2925]], device='cuda:0', grad_fn=<AddmmBackward0>)"
            ]
          },
          "metadata": {},
          "execution_count": 45
        }
      ]
    },
    {
      "cell_type": "code",
      "source": [
        "# 학습 설정값을 지정합니다.\n",
        "EPOCHS = 100\n",
        "BATCH_SIZE = 64\n",
        "LEARNING_RATE = 0.001"
      ],
      "metadata": {
        "id": "a7DTWwsUl_C7"
      },
      "execution_count": 46,
      "outputs": []
    },
    {
      "cell_type": "code",
      "source": [
        "# 데이터 로더의 배치 크기를 업데이트합니다.\n",
        "dataloader = torch.utils.data.DataLoader(dataset,\n",
        "                                         batch_size=BATCH_SIZE,\n",
        "                                         shuffle=True,\n",
        "                                         num_workers=8)"
      ],
      "metadata": {
        "id": "CbjkxcaimAel"
      },
      "execution_count": 47,
      "outputs": []
    },
    {
      "cell_type": "code",
      "source": [
        "# VGG19 모델의 첫 번째 합성곱 층의 파라미터를 출력합니다.\n",
        "next(my_model.vgg19.features._modules['0'].parameters())[0]"
      ],
      "metadata": {
        "colab": {
          "base_uri": "https://localhost:8080/"
        },
        "id": "zGWJpU0smCOo",
        "outputId": "8186e99d-e625-4373-c4d0-24143de32ceb"
      },
      "execution_count": 48,
      "outputs": [
        {
          "output_type": "execute_result",
          "data": {
            "text/plain": [
              "tensor([[[-0.0535, -0.0493, -0.0679],\n",
              "         [ 0.0153,  0.0451,  0.0021],\n",
              "         [ 0.0362,  0.0200,  0.0199]],\n",
              "\n",
              "        [[ 0.0170,  0.0554, -0.0062],\n",
              "         [ 0.1416,  0.2271,  0.1376],\n",
              "         [ 0.1200,  0.2003,  0.0921]],\n",
              "\n",
              "        [[-0.0449,  0.0127, -0.0145],\n",
              "         [ 0.0597,  0.1395,  0.0541],\n",
              "         [-0.0010,  0.0583, -0.0297]]], device='cuda:0')"
            ]
          },
          "metadata": {},
          "execution_count": 48
        }
      ]
    },
    {
      "cell_type": "code",
      "source": [
        "# 선형 층의 파라미터 중 첫 10개를 출력합니다.\n",
        "it = my_model.linear_layers.parameters()\n",
        "next(it)[0][:10]"
      ],
      "metadata": {
        "colab": {
          "base_uri": "https://localhost:8080/"
        },
        "id": "4mF1PkF3mErV",
        "outputId": "bc78cc23-558e-4fc0-a8aa-5128c454f909"
      },
      "execution_count": 49,
      "outputs": [
        {
          "output_type": "execute_result",
          "data": {
            "text/plain": [
              "tensor([-0.0239,  0.0237,  0.0030, -0.0092, -0.0102, -0.0170,  0.0132,  0.0123,\n",
              "         0.0113,  0.0009], device='cuda:0', grad_fn=<SliceBackward0>)"
            ]
          },
          "metadata": {},
          "execution_count": 49
        }
      ]
    },
    {
      "cell_type": "code",
      "source": [
        "# 이진 분류 정확돌르 계산하는 함수를 정의\n",
        "def binary_acc(y_pred, y_test):\n",
        "  y_pred_tag = torch.round(torch.sigmoid(y_pred))\n",
        "  correct_results_sum = (y_pred_tag == y_test).sum().float()\n",
        "  acc = correct_results_sum / y_test.shape[0]\n",
        "  acc = torch.round(acc * 100)\n",
        "\n",
        "  return acc\n",
        "\n",
        "# 모델을 초기화하고 GPU로 이동\n",
        "my_model = MyNewNet()\n",
        "my_model = my_model.to(device)\n",
        "\n",
        "# 모델의 모든 파라미터를 고정\n",
        "for param in my_model.parameters():\n",
        "  param.requires_grad = False\n",
        "\n",
        "# 선형 층의 파라미턴 학습 가능하도록 설정\n",
        "for param in my_model.linear_layers.parameters():\n",
        "  param.requires_grad = True\n",
        "\n",
        "# 손실 함수와 옵티마이저 설정\n",
        "criterion = nn.BCEWithLogitsLoss()\n",
        "optimizer = optim.Adam(my_model.parameters(), lr=LEARNING_RATE)\n",
        "\n",
        "# 학습을 시작합니다.\n",
        "for e in range(1, EPOCHS+1):\n",
        "    epoch_loss = 0\n",
        "    epoch_acc = 0\n",
        "    for X_batch, y_batch in dataloader:\n",
        "        X_batch, y_batch = X_batch.to(device), y_batch.to(device).type(torch.cuda.FloatTensor)\n",
        "\n",
        "        optimizer.zero_grad()\n",
        "        y_pred = my_model(X_batch)\n",
        "\n",
        "        loss = criterion(y_pred, y_batch.unsqueeze(1))\n",
        "        acc = binary_acc(y_pred, y_batch.unsqueeze(1))\n",
        "\n",
        "        loss.backward()\n",
        "        optimizer.step()\n",
        "\n",
        "        epoch_loss += loss.item()\n",
        "        epoch_acc += acc.item()\n",
        "\n",
        "    # 에폭별 손실과 정확도를 출력합니다.\n",
        "    print(f'Epoch {e+0:03}: | Loss: {epoch_loss/len(dataloader):.5f} | Acc: {epoch_acc/len(dataloader):.3f}')"
      ],
      "metadata": {
        "colab": {
          "base_uri": "https://localhost:8080/",
          "height": 269
        },
        "id": "GHhg8MHEmHRQ",
        "outputId": "fef4131a-fb86-44b9-a61c-5303764b3991"
      },
      "execution_count": 50,
      "outputs": [
        {
          "output_type": "stream",
          "name": "stdout",
          "text": [
            "Epoch 001: | Loss: 0.06804 | Acc: 97.182\n"
          ]
        },
        {
          "output_type": "error",
          "ename": "KeyboardInterrupt",
          "evalue": "",
          "traceback": [
            "\u001b[0;31m---------------------------------------------------------------------------\u001b[0m",
            "\u001b[0;31mKeyboardInterrupt\u001b[0m                         Traceback (most recent call last)",
            "\u001b[0;32m/tmp/ipython-input-50-1953077121.py\u001b[0m in \u001b[0;36m<cell line: 0>\u001b[0;34m()\u001b[0m\n\u001b[1;32m     40\u001b[0m         \u001b[0moptimizer\u001b[0m\u001b[0;34m.\u001b[0m\u001b[0mstep\u001b[0m\u001b[0;34m(\u001b[0m\u001b[0;34m)\u001b[0m\u001b[0;34m\u001b[0m\u001b[0;34m\u001b[0m\u001b[0m\n\u001b[1;32m     41\u001b[0m \u001b[0;34m\u001b[0m\u001b[0m\n\u001b[0;32m---> 42\u001b[0;31m         \u001b[0mepoch_loss\u001b[0m \u001b[0;34m+=\u001b[0m \u001b[0mloss\u001b[0m\u001b[0;34m.\u001b[0m\u001b[0mitem\u001b[0m\u001b[0;34m(\u001b[0m\u001b[0;34m)\u001b[0m\u001b[0;34m\u001b[0m\u001b[0;34m\u001b[0m\u001b[0m\n\u001b[0m\u001b[1;32m     43\u001b[0m         \u001b[0mepoch_acc\u001b[0m \u001b[0;34m+=\u001b[0m \u001b[0macc\u001b[0m\u001b[0;34m.\u001b[0m\u001b[0mitem\u001b[0m\u001b[0;34m(\u001b[0m\u001b[0;34m)\u001b[0m\u001b[0;34m\u001b[0m\u001b[0;34m\u001b[0m\u001b[0m\n\u001b[1;32m     44\u001b[0m \u001b[0;34m\u001b[0m\u001b[0m\n",
            "\u001b[0;31mKeyboardInterrupt\u001b[0m: "
          ]
        }
      ]
    },
    {
      "cell_type": "code",
      "source": [
        "# VGG19 모델의 첫 번째 합성곱 층의 파라미터를 출력합니다.\n",
        "next(my_model.vgg19.features._modules['0'].parameters())[0]"
      ],
      "metadata": {
        "colab": {
          "base_uri": "https://localhost:8080/"
        },
        "id": "F_2uBfO3mps2",
        "outputId": "c4e11582-6926-4ca0-fe40-5c266fca6e67"
      },
      "execution_count": 51,
      "outputs": [
        {
          "output_type": "execute_result",
          "data": {
            "text/plain": [
              "tensor([[[-0.0535, -0.0493, -0.0679],\n",
              "         [ 0.0153,  0.0451,  0.0021],\n",
              "         [ 0.0362,  0.0200,  0.0199]],\n",
              "\n",
              "        [[ 0.0170,  0.0554, -0.0062],\n",
              "         [ 0.1416,  0.2271,  0.1376],\n",
              "         [ 0.1200,  0.2003,  0.0921]],\n",
              "\n",
              "        [[-0.0449,  0.0127, -0.0145],\n",
              "         [ 0.0597,  0.1395,  0.0541],\n",
              "         [-0.0010,  0.0583, -0.0297]]], device='cuda:0')"
            ]
          },
          "metadata": {},
          "execution_count": 51
        }
      ]
    },
    {
      "cell_type": "code",
      "source": [
        "# 선형 층의 파라미터 중 첫 10개를 출력합니다.\n",
        "it = my_model.linear_layers.parameters()\n",
        "next(it)[0][:10]\n",
        "\n",
        "#  tensor([-0.0239,  0.0237,  0.0030, -0.0092, -0.0102, -0.0170,  0.0132,  0.0123,\n",
        "#          0.0113,  0.0009], device='cuda:0', grad_fn=<SliceBackward0>)"
      ],
      "metadata": {
        "colab": {
          "base_uri": "https://localhost:8080/"
        },
        "id": "yO0-s5KjmsMy",
        "outputId": "15870f65-bc26-4532-d296-1de45579be3e"
      },
      "execution_count": 52,
      "outputs": [
        {
          "output_type": "execute_result",
          "data": {
            "text/plain": [
              "tensor([-0.0209, -0.0484,  0.0068, -0.0317, -0.0138, -0.0225,  0.0195, -0.0146,\n",
              "         0.0019,  0.0030], device='cuda:0', grad_fn=<SliceBackward0>)"
            ]
          },
          "metadata": {},
          "execution_count": 52
        }
      ]
    }
  ]
}