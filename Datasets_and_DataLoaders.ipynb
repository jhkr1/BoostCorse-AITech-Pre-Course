{
  "nbformat": 4,
  "nbformat_minor": 0,
  "metadata": {
    "colab": {
      "provenance": [],
      "authorship_tag": "ABX9TyNqr8LCuvhmN7N+dvb8RlMr",
      "include_colab_link": true
    },
    "kernelspec": {
      "name": "python3",
      "display_name": "Python 3"
    },
    "language_info": {
      "name": "python"
    }
  },
  "cells": [
    {
      "cell_type": "markdown",
      "metadata": {
        "id": "view-in-github",
        "colab_type": "text"
      },
      "source": [
        "<a href=\"https://colab.research.google.com/github/jhkr1/BoostCorse-AITech-Pre-Course/blob/main/Datasets_and_DataLoaders.ipynb\" target=\"_parent\"><img src=\"https://colab.research.google.com/assets/colab-badge.svg\" alt=\"Open In Colab\"/></a>"
      ]
    },
    {
      "cell_type": "markdown",
      "source": [
        "## 1. 필요한 라이브러리 가져오기"
      ],
      "metadata": {
        "id": "a1qrbJPXbgy4"
      }
    },
    {
      "cell_type": "code",
      "execution_count": 1,
      "metadata": {
        "id": "mDJWbvcrYy_X"
      },
      "outputs": [],
      "source": [
        "import os\n",
        "import sys\n",
        "import torch\n",
        "import requests\n",
        "import tarfile\n",
        "import matplotlib.pyplot as plt\n",
        "from tqdm import tqdm\n",
        "from pathlib import Path\n",
        "from skimage import io, transform\n",
        "from torchvision import transforms, datasets\n",
        "from torchvision.datasets import VisionDataset\n",
        "from typing import Any, Callable, Dict, List, Optional, Tuple\n",
        "from torch.utils.data import Dataset, DataLoader"
      ]
    },
    {
      "cell_type": "markdown",
      "source": [
        "## 2. Custom Dataset 복습하기"
      ],
      "metadata": {
        "id": "R546BPaScFym"
      }
    },
    {
      "cell_type": "code",
      "source": [
        "# 파이토치의 Dataset 클래스를 상속받아 CustomDataset 클래스를 정의한다.\n",
        "class CustomDataset(Dataset):\n",
        "\n",
        "  # 초기화 함수: 객체 생성 시 호출되며, 데이터와 레이블을 인자로 받아 저장한다.\n",
        "  def __init__(self, text, labels):\n",
        "    # 레이블 정보를 저장\n",
        "    self.labels = labels\n",
        "\n",
        "    # 텍스트 데이터 저장\n",
        "    self.data = text\n",
        "\n",
        "  # 데이터셋의 총 길이를 반환하는 함수\n",
        "  def __len__(self):\n",
        "    return len(self.labels)\n",
        "\n",
        "  # 인덱스를 받아 해당 인덱스의 데이터와 레이블을 반환하는 함수\n",
        "  def __getitem__(self, idx):\n",
        "\n",
        "    # 해당 인덱스의 레이블 가져오기\n",
        "    label = self.labels[idx]\n",
        "\n",
        "    # 해당 인덱스의 텍스트 데이터를 가져오기\n",
        "    text = self.data[idx]\n",
        "\n",
        "    # 텍스트와 레이블을 딕셔너리 형태로 묶어반환하기\n",
        "    sample = {\"Text\": text, \"Class\":label}\n",
        "\n",
        "    return sample"
      ],
      "metadata": {
        "id": "GDTx0A73cJUT"
      },
      "execution_count": 2,
      "outputs": []
    },
    {
      "cell_type": "code",
      "source": [
        "# 텍스트 데이터와 해당 텍스트의 감정 레이블을 정의한다.\n",
        "text = ['Happy', 'Amazing', 'Sad', 'Unhapy', 'Glum']\n",
        "labels = ['Positive', 'Positive', 'Negative', 'Negative', 'Negative']\n",
        "\n",
        "# CustomDataset 클래스를 사용하여 데이터셋 객체를 생성한다.\n",
        "MyDataset = CustomDataset(text, labels)"
      ],
      "metadata": {
        "id": "Sa1HJrOMdFiI"
      },
      "execution_count": 3,
      "outputs": []
    },
    {
      "cell_type": "code",
      "source": [
        "type(MyDataset)"
      ],
      "metadata": {
        "colab": {
          "base_uri": "https://localhost:8080/",
          "height": 187
        },
        "id": "Q38qrLZFdRSe",
        "outputId": "fb14f758-58eb-4b97-e64f-ca60b2a01c80"
      },
      "execution_count": 4,
      "outputs": [
        {
          "output_type": "execute_result",
          "data": {
            "text/plain": [
              "__main__.CustomDataset"
            ],
            "text/html": [
              "<div style=\"max-width:800px; border: 1px solid var(--colab-border-color);\"><style>\n",
              "      pre.function-repr-contents {\n",
              "        overflow-x: auto;\n",
              "        padding: 8px 12px;\n",
              "        max-height: 500px;\n",
              "      }\n",
              "\n",
              "      pre.function-repr-contents.function-repr-contents-collapsed {\n",
              "        cursor: pointer;\n",
              "        max-height: 100px;\n",
              "      }\n",
              "    </style>\n",
              "    <pre style=\"white-space: initial; background:\n",
              "         var(--colab-secondary-surface-color); padding: 8px 12px;\n",
              "         border-bottom: 1px solid var(--colab-border-color);\"><b>CustomDataset</b><br/>def __init__(text, labels)</pre><pre class=\"function-repr-contents function-repr-contents-collapsed\" style=\"\"><a class=\"filepath\" style=\"display:none\" href=\"#\"></a>An abstract class representing a :class:`Dataset`.\n",
              "\n",
              "All datasets that represent a map from keys to data samples should subclass\n",
              "it. All subclasses should overwrite :meth:`__getitem__`, supporting fetching a\n",
              "data sample for a given key. Subclasses could also optionally overwrite\n",
              ":meth:`__len__`, which is expected to return the size of the dataset by many\n",
              ":class:`~torch.utils.data.Sampler` implementations and the default options\n",
              "of :class:`~torch.utils.data.DataLoader`. Subclasses could also\n",
              "optionally implement :meth:`__getitems__`, for speedup batched samples\n",
              "loading. This method accepts list of indices of samples of batch and returns\n",
              "list of samples.\n",
              "\n",
              ".. note::\n",
              "  :class:`~torch.utils.data.DataLoader` by default constructs an index\n",
              "  sampler that yields integral indices.  To make it work with a map-style\n",
              "  dataset with non-integral indices/keys, a custom sampler must be provided.</pre></div>"
            ]
          },
          "metadata": {},
          "execution_count": 4
        }
      ]
    },
    {
      "cell_type": "code",
      "source": [
        "# 배치 크기가 2인 DataLoader 객체를 생성하고 데이터를 섞어서 로드한다.\n",
        "MyDataLoader = DataLoader(MyDataset, batch_size=2, shuffle=True)\n",
        "\n",
        "# DataLoader에서 첫 번째 배치의 데이터를 가져와 출력한다.\n",
        "next(iter(MyDataLoader))"
      ],
      "metadata": {
        "colab": {
          "base_uri": "https://localhost:8080/"
        },
        "id": "lkfJcrZxdjRw",
        "outputId": "46966ec2-a903-468c-a9d8-e24ca740c523"
      },
      "execution_count": 7,
      "outputs": [
        {
          "output_type": "execute_result",
          "data": {
            "text/plain": [
              "{'Text': ['Glum', 'Amazing'], 'Class': ['Negative', 'Positive']}"
            ]
          },
          "metadata": {},
          "execution_count": 7
        }
      ]
    },
    {
      "cell_type": "code",
      "source": [
        "# 배치 크기가 3인 DataLoader 객체를 생성하고, 데이터를 섞어서 로드한다.\n",
        "MyDataLoader = DataLoader(MyDataset, batch_size=3, shuffle=True)\n",
        "\n",
        "for dataset in MyDataLoader:\n",
        "  print(dataset)"
      ],
      "metadata": {
        "colab": {
          "base_uri": "https://localhost:8080/"
        },
        "id": "QHHAZtYKd5sn",
        "outputId": "5e2cb334-9eac-420f-8a86-0f4186e66203"
      },
      "execution_count": 8,
      "outputs": [
        {
          "output_type": "stream",
          "name": "stdout",
          "text": [
            "{'Text': ['Sad', 'Happy', 'Amazing'], 'Class': ['Negative', 'Positive', 'Positive']}\n",
            "{'Text': ['Glum', 'Unhapy'], 'Class': ['Negative', 'Negative']}\n"
          ]
        }
      ]
    },
    {
      "cell_type": "markdown",
      "source": [
        "## 3. NotMNIST을 이용하여 Custom Dataset 만들기"
      ],
      "metadata": {
        "id": "-9prD-O5eN2s"
      }
    },
    {
      "cell_type": "code",
      "source": [
        "class NotMNIST(VisionDataset):\n",
        "  # notMNIST 데이터셋의 다운로드 URL\n",
        "  resource_url = 'http://yaroslavvb.com/upload/notMNIST/notMNIST_large.tar.gz'\n",
        "\n",
        "  # 초기화 함수\n",
        "  def __init__(self, root: str, train: bool = True,\n",
        "               transform: Optional[Callable] = None,\n",
        "               target_transform: Optional[Callable] = None,\n",
        "               download: bool = False) -> None:\n",
        "      # 부모 클래스(VisionDataset)의 초기화 함수를 호출\n",
        "      super(NotMNIST, self).__init__(root, transform=transform, target_transform=target_transform)\n",
        "\n",
        "      # 데이터셋이 로컬에 존재하지 않거나, download=True로 설정된 경우 다운로드를 진행\n",
        "      if not self._check_exists() or download:\n",
        "          self.download()\n",
        "\n",
        "      # 데이터(이미지 경로)와 타겟(라벨)을 로드하여 인스턴스 변수에 저장\n",
        "      self.data, self.targets = self._load_data()\n",
        "\n",
        "  # 데이터셋의 길이 반환\n",
        "  def __len__(self):\n",
        "    return len(self.data)\n",
        "\n",
        "\n",
        "  # 인덱스에 해당하는 데이터 반환\n",
        "  def __getitem__(self, index):\n",
        "    image_name = self.data[index]\n",
        "    image = io.imread(image_name)\n",
        "    label = self.targets[index]\n",
        "\n",
        "    # 이미지에 적용할 전처리(transform)가 지정되어 있다면 실행\n",
        "    if self.transform:\n",
        "      image = self.transform(image)\n",
        "\n",
        "\n",
        "    return image, label\n",
        "\n",
        "\n",
        "  # 데이터 로드 함수\n",
        "  def _load_data(self):\n",
        "   # 이미지가 저장된 최상위 폴더 경로를 가져옴\n",
        "    filepath = self.image_folder\n",
        "    data = []\n",
        "    targets = []\n",
        "\n",
        "    # 각 클래스별로 데이터 로드\n",
        "    for target in os.listdir(filepath):\n",
        "      # 클래스 폴더 내의 모든 이미지 파일에 대한 전체 경로 리스트를 생성\n",
        "        filenames = [os.path.abspath(os.path.join(filepath, target, x)) for x in os.listdir(os.path.join(filepath, target))]\n",
        "        # 해당 클래스 라벨을 이미지 개수만큼 targets 리스트에 추가\n",
        "        targets.extend([target] * len(filenames))\n",
        "        data.extend(filenames)\n",
        "    return data, targets\n",
        "\n",
        "  # 원본 데이터 폴더 경로\n",
        "  @property\n",
        "  def raw_folder(self) -> str:\n",
        "    return os.path.join(self.root, self.__class__.__name__, 'raw')\n",
        "\n",
        "  # 압축 해제 후 이미지들이 저장된 폴더 경로를 반환하는 속성\n",
        "  @property\n",
        "  def image_folder(self) -> str:\n",
        "    return os.path.join(self.root, 'notMNIST_large')\n",
        "\n",
        "  # 데이터 다운로드 함수\n",
        "  def download(self) -> None:\n",
        "    # 원본 파일을 저장할 폴더를 생성 (폴더가 이미 있어도 에러 발생 안 함)\n",
        "    os.makedirs(self.raw_folder, exist_ok=True)\n",
        "    # 다운로드할 파일의 이름을 URL에서 추출\n",
        "    fname = self.resource_url.split(\"/\")[-1]\n",
        "    # 차단을 피하기 위해 웹 브라우저인 것처럼 위장하는 User-Agent 정보\n",
        "    user_agent = 'Mozilla/5.0 (Macintosh; Intel Mac OS X 10_10_1) AppleWebKit/537.36 (KHTML, like Gecko) Chrome/39.0.2171.95 Safari/537.36'\n",
        "    # 다운로드할 파일의 전체 크기를 미리 알아옴 (진행률 표시를 위함)\n",
        "    filesize = int(requests.head(self.resource_url, headers={\"User-Agent\": user_agent}).headers[\"Content-Length\"])\n",
        "\n",
        "    # requests.get으로 스트림 연결, open으로 파일 열기, tqdm으로 진행률 표시를 한번에 처리\n",
        "    with requests.get(self.resource_url, stream=True, headers={\"User-Agent\": user_agent}) as r, \\\n",
        "          open(os.path.join(self.raw_folder, fname), \"wb\") as f, \\\n",
        "          tqdm(unit='B', unit_scale=True, unit_divisor=1024, total=filesize, file=sys.stdout, desc=fname) as progress:\n",
        "      # 파일을 1024바이트(1KB)씩 조각(chunk)내어 다운로드\n",
        "      for chunk in r.iter_content(chunk_size=1024):\n",
        "        # 파일에 다운로드한 조각을 씀\n",
        "        datasize = f.write(chunk)\n",
        "        # 진행률 표시줄을 업데이트\n",
        "        progress.update(datasize)\n",
        "\n",
        "    # 다운로드한 파일 압축 해제\n",
        "    self._extract_file(os.path.join(self.raw_folder, fname), target_path=self.root)\n",
        "\n",
        "\n",
        "  # 파일 압축 해제 함수\n",
        "  def _extract_file(self, fname, target_path) -> None:\n",
        "    # 파일 확장자에 따라 압축 해제 방식을 결정\n",
        "    tag = \"r:gz\" if fname.endswith(\"tar.gz\") else \"r:\"\n",
        "    # tarfile 라이브러리를 이용해 압축 파일을 열고\n",
        "    with tarfile.open(fname, tag) as tar:\n",
        "      # 지정된 경로에 압축을 해제\n",
        "      tar.extractall(path=target_path)\n",
        "\n",
        "  # 데이터셋 존재 여부 확인 함수\n",
        "  def _check_exists(self) -> bool:\n",
        "    return os.path.exists(self.raw_folder)\n",
        "\n"
      ],
      "metadata": {
        "id": "d9a4k5WqeSfl"
      },
      "execution_count": 11,
      "outputs": []
    },
    {
      "cell_type": "code",
      "source": [
        "dataset = NotMNIST(\"data\", download=True)"
      ],
      "metadata": {
        "colab": {
          "base_uri": "https://localhost:8080/"
        },
        "id": "KGHINJKNipZs",
        "outputId": "af9f9e89-3076-4c56-e30e-feabe8c4156c"
      },
      "execution_count": 10,
      "outputs": [
        {
          "output_type": "stream",
          "name": "stdout",
          "text": [
            "notMNIST_large.tar.gz: 100%|██████████| 236M/236M [00:08<00:00, 30.2MB/s]\n"
          ]
        }
      ]
    },
    {
      "cell_type": "code",
      "source": [
        "# 새로운 그림 (figure) 객체를 생선\n",
        "fig = plt.figure()\n",
        "\n",
        "# 8개의 샘플 이미지를 출력\n",
        "for i in range(8):\n",
        "  # i번째 샘플 데이터를 가져오기\n",
        "  sample = dataset[i]\n",
        "\n",
        "  # 1행 4열의 서브플롯 중 i+1번째 위치에 그래프를 그린다.\n",
        "  ax = plt.subplot(1, 4, i+1)\n",
        "\n",
        "  # 레이아웃을 조절, 그래프 간의 간격을 최적화한다.\n",
        "  plt.tight_layout()\n",
        "\n",
        "  # 서브플롯의 제목을 설정\n",
        "  ax.set_title(f'Sample #{i}')\n",
        "\n",
        "  # 서브플롯의 축을 숨긴다.\n",
        "  ax.axis('off')\n",
        "\n",
        "  # 샘플 이미지를 출력한다.\n",
        "  plt.imshow(sample[0])\n",
        "\n",
        "  # 4개의 샘플 이미지를 출력한 후 그림을 화면에 표시하고 반복문 종료\n",
        "  if i == 3:\n",
        "    plt.show()\n",
        "    break\n"
      ],
      "metadata": {
        "colab": {
          "base_uri": "https://localhost:8080/",
          "height": 174
        },
        "id": "sr9Y2opwk8dA",
        "outputId": "b49f8361-9397-4d87-81d4-a0c39abf0586"
      },
      "execution_count": 12,
      "outputs": [
        {
          "output_type": "display_data",
          "data": {
            "text/plain": [
              "<Figure size 640x480 with 4 Axes>"
            ],
            "image/png": "[encoded data removed]"
          },
          "metadata": {}
        }
      ]
    },
    {
      "cell_type": "code",
      "source": [
        "# 데이터 전처리를 위한 변환(Transform) 객체를 생성한다.\n",
        "# 여러 전처리 단계를 순차적으로 적용하기 위해 Compose를 사용한다.\n",
        "\n",
        "data_transform = transforms.Compose([\n",
        "    # 224 x 224 크기 무작위로 이미지를 잘라낸다.\n",
        "    transforms.RandomCrop(224),\n",
        "\n",
        "    # 0.5의 확률로 이미지를 수평으로 뒤집는다.\n",
        "    transforms.RandomHorizontalFlip(),\n",
        "\n",
        "    # 이미지를 Tensor 형태로 변환한다.\n",
        "    transforms.ToTensor(),\n",
        "\n",
        "    # 주어진 평균과 표준편차를 사용하여 이미지를 정규화한다.\n",
        "    transforms.Normalize(mean=[0.485, 0.456, 0.406],\n",
        "                             std=[0.229, 0.224, 0.225])\n",
        "])\n",
        "\n",
        "# NotMNIST 데이터셋을 로드, 다운로드는 X\n",
        "dataset = NotMNIST(\"data\", download=False)"
      ],
      "metadata": {
        "id": "yG52jd2vlwL0"
      },
      "execution_count": 13,
      "outputs": []
    },
    {
      "cell_type": "code",
      "source": [
        "# 데이터셋을 배치 크기로 나누어 로드하기 위한 DataLoader 객체를 생성\n",
        "# 배치 크기는 128, 데이터를 섞어서 로드한다.\n",
        "dataset_loader= torch.utils.data.DataLoader(dataset,\n",
        "                                            batch_size=128, shuffle=True)"
      ],
      "metadata": {
        "id": "ACT8eucWmj2h"
      },
      "execution_count": 15,
      "outputs": []
    },
    {
      "cell_type": "code",
      "source": [
        "# DataLoader에서 첫 번째 배치의 특성(features)과 레이블을 가져온다\n",
        "train_features, train_labels = next(iter(dataset_loader))"
      ],
      "metadata": {
        "id": "bNtgbnZTmzmD"
      },
      "execution_count": 16,
      "outputs": []
    },
    {
      "cell_type": "code",
      "source": [
        "train_features.shape"
      ],
      "metadata": {
        "colab": {
          "base_uri": "https://localhost:8080/"
        },
        "id": "pQ_AuOkem85H",
        "outputId": "9f67106c-0716-4bb8-c00c-80fec1d50107"
      },
      "execution_count": 17,
      "outputs": [
        {
          "output_type": "execute_result",
          "data": {
            "text/plain": [
              "torch.Size([128, 28, 28])"
            ]
          },
          "metadata": {},
          "execution_count": 17
        }
      ]
    },
    {
      "cell_type": "code",
      "source": [
        "# 첫 번째 배치의 레이블을 출력한다\n",
        "train_labels"
      ],
      "metadata": {
        "colab": {
          "base_uri": "https://localhost:8080/"
        },
        "id": "5dGGbExvm_Nd",
        "outputId": "827483e2-72e6-461a-af4a-5e99729ea2f4"
      },
      "execution_count": 18,
      "outputs": [
        {
          "output_type": "execute_result",
          "data": {
            "text/plain": [
              "('A',\n",
              " 'H',\n",
              " 'H',\n",
              " 'I',\n",
              " 'B',\n",
              " 'F',\n",
              " 'A',\n",
              " 'E',\n",
              " 'F',\n",
              " 'G',\n",
              " 'J',\n",
              " 'B',\n",
              " 'E',\n",
              " 'B',\n",
              " 'A',\n",
              " 'H',\n",
              " 'H',\n",
              " 'I',\n",
              " 'E',\n",
              " 'G',\n",
              " 'A',\n",
              " 'I',\n",
              " 'H',\n",
              " 'H',\n",
              " 'F',\n",
              " 'F',\n",
              " 'F',\n",
              " 'D',\n",
              " 'I',\n",
              " 'A',\n",
              " 'G',\n",
              " 'J',\n",
              " 'F',\n",
              " 'F',\n",
              " 'B',\n",
              " 'B',\n",
              " 'I',\n",
              " 'G',\n",
              " 'I',\n",
              " 'D',\n",
              " 'J',\n",
              " 'D',\n",
              " 'A',\n",
              " 'B',\n",
              " 'G',\n",
              " 'D',\n",
              " 'C',\n",
              " 'H',\n",
              " 'G',\n",
              " 'F',\n",
              " 'D',\n",
              " 'D',\n",
              " 'B',\n",
              " 'D',\n",
              " 'B',\n",
              " 'F',\n",
              " 'E',\n",
              " 'F',\n",
              " 'B',\n",
              " 'D',\n",
              " 'I',\n",
              " 'F',\n",
              " 'I',\n",
              " 'F',\n",
              " 'B',\n",
              " 'E',\n",
              " 'H',\n",
              " 'J',\n",
              " 'E',\n",
              " 'E',\n",
              " 'F',\n",
              " 'F',\n",
              " 'G',\n",
              " 'F',\n",
              " 'H',\n",
              " 'J',\n",
              " 'D',\n",
              " 'C',\n",
              " 'E',\n",
              " 'C',\n",
              " 'H',\n",
              " 'G',\n",
              " 'I',\n",
              " 'I',\n",
              " 'E',\n",
              " 'I',\n",
              " 'I',\n",
              " 'A',\n",
              " 'I',\n",
              " 'G',\n",
              " 'I',\n",
              " 'I',\n",
              " 'B',\n",
              " 'G',\n",
              " 'F',\n",
              " 'J',\n",
              " 'D',\n",
              " 'H',\n",
              " 'A',\n",
              " 'C',\n",
              " 'A',\n",
              " 'G',\n",
              " 'I',\n",
              " 'E',\n",
              " 'I',\n",
              " 'H',\n",
              " 'C',\n",
              " 'E',\n",
              " 'B',\n",
              " 'G',\n",
              " 'J',\n",
              " 'J',\n",
              " 'D',\n",
              " 'H',\n",
              " 'J',\n",
              " 'F',\n",
              " 'E',\n",
              " 'A',\n",
              " 'G',\n",
              " 'C',\n",
              " 'E',\n",
              " 'H',\n",
              " 'G',\n",
              " 'H',\n",
              " 'I',\n",
              " 'H',\n",
              " 'H',\n",
              " 'H')"
            ]
          },
          "metadata": {},
          "execution_count": 18
        }
      ]
    }
  ]
}